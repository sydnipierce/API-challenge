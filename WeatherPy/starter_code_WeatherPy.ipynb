{
 "cells": [
  {
   "cell_type": "markdown",
   "metadata": {},
   "source": [
    "# WeatherPy\n",
    "----\n",
    "\n",
    "#### Note\n",
    "* Instructions have been included for each segment. You do not have to follow them exactly, but they are included to help you think through the steps."
   ]
  },
  {
   "cell_type": "code",
   "execution_count": 1,
   "metadata": {
    "scrolled": true
   },
   "outputs": [],
   "source": [
    "# Dependencies and Setup\n",
    "import matplotlib.pyplot as plt\n",
    "import pandas as pd\n",
    "import numpy as np\n",
    "import requests\n",
    "import time\n",
    "import os\n",
    "import json\n",
    "from scipy.stats import linregress\n",
    "\n",
    "# Import API key\n",
    "from api_keys import weather_api_key\n",
    "\n",
    "# Incorporated citipy to determine city based on latitude and longitude\n",
    "from citipy import citipy\n",
    "\n",
    "# Output File (CSV)\n",
    "output_data_file = os.path.join(\"Output Data\", \"cities.csv\")\n",
    "\n",
    "# Range of latitudes and longitudes\n",
    "lat_range = (-90, 90)\n",
    "lng_range = (-180, 180)"
   ]
  },
  {
   "cell_type": "markdown",
   "metadata": {},
   "source": [
    "## Generate Data"
   ]
  },
  {
   "cell_type": "markdown",
   "metadata": {},
   "source": [
    "### Generate Random Cities"
   ]
  },
  {
   "cell_type": "code",
   "execution_count": 2,
   "metadata": {},
   "outputs": [
    {
     "data": {
      "text/plain": [
       "609"
      ]
     },
     "execution_count": 2,
     "metadata": {},
     "output_type": "execute_result"
    }
   ],
   "source": [
    "# List for holding lat_lngs and cities\n",
    "lat_lngs = []\n",
    "cities = []\n",
    "\n",
    "# Create a set of 1500 random lat and lng combinations\n",
    "lats = np.random.uniform(lat_range[0], lat_range[1], size=1500)\n",
    "lngs = np.random.uniform(lng_range[0], lng_range[1], size=1500)\n",
    "lat_lngs = zip(lats, lngs)\n",
    "\n",
    "# Identify nearest city for each lat, lng combination\n",
    "for lat_lng in lat_lngs:\n",
    "    city = citipy.nearest_city(lat_lng[0], lat_lng[1]).city_name\n",
    "    \n",
    "    # If the city is unique, then add it to our cities list\n",
    "    if city not in cities:\n",
    "        cities.append(city)\n",
    "\n",
    "# Print the city count to confirm sufficient count\n",
    "len(cities)"
   ]
  },
  {
   "cell_type": "markdown",
   "metadata": {},
   "source": [
    "### Perform API Calls\n",
    "* Perform a weather check on each city using a series of successive API calls.\n",
    "* Include a print log of each city as it's being processed (with the city number and city name).\n"
   ]
  },
  {
   "cell_type": "code",
   "execution_count": 3,
   "metadata": {},
   "outputs": [
    {
     "data": {
      "text/plain": [
       "{'coord': {'lon': -9.1333, 'lat': 38.7167},\n",
       " 'weather': [{'id': 800,\n",
       "   'main': 'Clear',\n",
       "   'description': 'clear sky',\n",
       "   'icon': '01n'}],\n",
       " 'base': 'stations',\n",
       " 'main': {'temp': 288.01,\n",
       "  'feels_like': 287.48,\n",
       "  'temp_min': 287.05,\n",
       "  'temp_max': 288.82,\n",
       "  'pressure': 1022,\n",
       "  'humidity': 74},\n",
       " 'visibility': 10000,\n",
       " 'wind': {'speed': 6.69, 'deg': 330},\n",
       " 'clouds': {'all': 0},\n",
       " 'dt': 1622853401,\n",
       " 'sys': {'type': 1,\n",
       "  'id': 6901,\n",
       "  'country': 'PT',\n",
       "  'sunrise': 1622869947,\n",
       "  'sunset': 1622923078},\n",
       " 'timezone': 3600,\n",
       " 'id': 2267057,\n",
       " 'name': 'Lisbon',\n",
       " 'cod': 200}"
      ]
     },
     "execution_count": 3,
     "metadata": {},
     "output_type": "execute_result"
    }
   ],
   "source": [
    "# Run a test call to view JSON structure\n",
    "url = \"http://api.openweathermap.org/data/2.5/weather?\"\n",
    "town = \"Lisbon\"\n",
    "query_url = f\"{url}q={town}&appid={weather_api_key}\"\n",
    "response = requests.get(query_url).json()\n",
    "response"
   ]
  },
  {
   "cell_type": "code",
   "execution_count": 4,
   "metadata": {
    "scrolled": true
   },
   "outputs": [
    {
     "name": "stdout",
     "output_type": "stream",
     "text": [
      "Husavik, ID 2629833 has been located.\n",
      "Qaanaaq, ID 3831208 has been located.\n",
      "Hilo, ID 5855927 has been located.\n",
      "Ozinki, ID 513329 has been located.\n",
      "Bambous Virieux, ID 1106677 has been located.\n",
      "Winslow, ID 5321473 has been located.\n",
      "Dārāb, ID 137956 has been located.\n",
      "Dikson, ID 1507390 has been located.\n",
      "Barrow, ID 5880054 has been located.\n",
      "Bayan, ID 2038421 has been located.\n",
      "Bethel, ID 5282297 has been located.\n",
      "Severnyy, ID 496358 has been located.\n",
      "The Valley, ID 3573374 has been located.\n",
      "Rikitea, ID 4030556 has been located.\n",
      "Huarmey, ID 3939168 has been located.\n",
      "Mukono, ID 228853 has been located.\n",
      "Blagoyevo, ID 576093 has been located.\n",
      "Busselton, ID 2075265 has been located.\n",
      "Thompson, ID 6165406 has been located.\n",
      "Pineville, ID 4337291 has been located.\n",
      "Mataura, ID 6201424 has been located.\n",
      "Cherskiy, ID 2126199 has been located.\n",
      "Khatanga, ID 2022572 has been located.\n",
      "Lompoc, ID 5367788 has been located.\n",
      "Port Alfred, ID 964432 has been located.\n",
      "Kundiawa, ID 2093059 has been located.\n",
      "Cape Town, ID 3369157 has been located.\n",
      "Dunedin, ID 2191562 has been located.\n",
      "Los Llanos de Aridane, ID 2514651 has been located.\n",
      "Quatre Cocos, ID 1106643 has been located.\n",
      "Pagudpud, ID 1696482 has been located.\n",
      "Bredasdorp, ID 1015776 has been located.\n",
      "Fortuna, ID 5563839 has been located.\n",
      "Ulladulla, ID 2145554 has been located.\n",
      "Mahébourg, ID 934322 has been located.\n",
      "Nyrob, ID 516588 has been located.\n",
      "Sitka, ID 5557293 has been located.\n",
      "Saskylakh, ID 2017155 has been located.\n",
      "Frontera, ID 3980180 has been located.\n",
      "São Mateus, ID 3448519 has been located.\n",
      "Hermanus, ID 3366880 has been located.\n",
      "Coahuayana Viejo, ID 4013679 has been located.\n",
      "Norrtälje, ID 2688250 has been located.\n",
      "Yerbogachën, ID 2012956 has been located.\n",
      "Port Hardy, ID 6111862 has been located.\n",
      "Waddān, ID 2209055 has been located.\n",
      "Chemin Grenier, ID 934614 has been located.\n",
      "Ushuaia, ID 3833367 has been located.\n",
      "Guerrero Negro, ID 4021858 has been located.\n",
      "Dunda, ID 160141 has been located.\n",
      "Jamestown, ID 5122534 has been located.\n",
      "Yeppoon, ID 2142316 has been located.\n",
      "Goundam, ID 2456917 has been located.\n",
      "Vallenar, ID 3868633 has been located.\n",
      "Nouadhibou, ID 2377457 has been located.\n",
      "Codrington, ID 2171099 has been located.\n",
      "Evensk, ID 2125693 has been located.\n",
      "Talaya, ID 2120769 has been located.\n",
      "Ubari, ID 2219235 has been located.\n",
      "Bluff, ID 2206939 has been located.\n",
      "Clyde River, ID 5924351 has been located.\n",
      "Paamiut, ID 3421193 has been located.\n",
      "São Desidério, ID 3449304 has been located.\n",
      "Marawi, ID 1701054 has been located.\n",
      "Ostrovnoy, ID 556268 has been located.\n",
      "Bengkulu, ID 1649150 has been located.\n",
      "Lata, ID 2738381 has been located.\n",
      "Oliveira dos Brejinhos, ID 3455903 has been located.\n",
      "Upernavik, ID 3418910 has been located.\n",
      "Vestmanna, ID 2610343 has been located.\n",
      "Yellowknife, ID 6185377 has been located.\n",
      "Curup, ID 1645875 has been located.\n",
      "Sfântu Gheorghe, ID 667303 has been located.\n",
      "Orshanka, ID 514739 has been located.\n",
      "Kindu, ID 212902 has been located.\n",
      "Butaritari, ID 2110227 has been located.\n",
      "Kennett, ID 4393451 has been located.\n",
      "Carnarvon, ID 2074865 has been located.\n",
      "Korla, ID 1529376 has been located.\n",
      "Hobart, ID 2163355 has been located.\n",
      "Atasū, ID 1526041 has been located.\n",
      "San-Pédro, ID 2282006 has been located.\n",
      "Puerto Baquerizo Moreno, ID 3652758 has been located.\n",
      "Luganville, ID 2136150 has been located.\n",
      "New Norfolk, ID 2155415 has been located.\n",
      "Vao, ID 2137773 has been located.\n",
      "Leningradskiy, ID 2123814 has been located.\n",
      "Yalutorovsk, ID 1486468 has been located.\n",
      "Belleville, ID 5897885 has been located.\n",
      "Avarua, ID 4035715 has been located.\n",
      "Avera, ID 4231997 has been located.\n",
      "Caravelas, ID 3466980 has been located.\n",
      "Morehead, ID 4301317 has been located.\n",
      "Atuona, ID 4020109 has been located.\n",
      "Heishan, ID 2036959 has been located.\n",
      "Eureka, ID 5563397 has been located.\n",
      "Wajir, ID 178443 has been located.\n",
      "Pangnirtung, ID 6096551 has been located.\n",
      "Medina, ID 109223 has been located.\n",
      "Port Moresby, ID 2088122 has been located.\n",
      "Touros, ID 3386213 has been located.\n",
      "Bathsheba, ID 3374083 has been located.\n",
      "Kapaa, ID 5848280 has been located.\n",
      "Hasaki, ID 2112802 has been located.\n",
      "Grindavik, ID 3416888 has been located.\n",
      "Kimbe, ID 2093967 has been located.\n",
      "Kununurra, ID 2068110 has been located.\n",
      "Río Cuarto, ID 3838874 has been located.\n",
      "Alofi, ID 4036284 has been located.\n",
      "Cidreira, ID 3466165 has been located.\n",
      "Padang, ID 1633419 has been located.\n",
      "Skibbereen, ID 2961459 has been located.\n",
      "Tautira, ID 4033557 has been located.\n",
      "Kruszwica, ID 3094585 has been located.\n",
      "Marystown, ID 6067472 has been located.\n",
      "Tasiilaq, ID 3424607 has been located.\n",
      "Shakawe, ID 933077 has been located.\n",
      "Solnechnyy, ID 2016307 has been located.\n",
      "Port Elizabeth, ID 964420 has been located.\n",
      "Klaksvík, ID 2618795 has been located.\n",
      "Vaini, ID 4032243 has been located.\n",
      "Pālanpur, ID 1260777 has been located.\n",
      "Saint-Augustin, ID 6137462 has been located.\n",
      "Vardø, ID 777019 has been located.\n",
      "Labuhan, ID 8079926 has been located.\n",
      "East London, ID 1006984 has been located.\n",
      "Pevek, ID 2122090 has been located.\n",
      "Ostër, ID 698247 has been located.\n",
      "Salto, ID 3440714 has been located.\n",
      "Castro, ID 3466704 has been located.\n",
      "Aseri, ID 592379 has been located.\n",
      "La Palma, ID 5364022 has been located.\n",
      "Lucea, ID 3489657 has been located.\n",
      "Severo-Kuril'sk, ID 2121385 has been located.\n",
      "George Town, ID 1735106 has been located.\n",
      "Departamento de Maldonado, ID 3441890 has been located.\n",
      "Rawson, ID 3839307 has been located.\n",
      "Henties Bay, ID 3356832 has been located.\n",
      "Anadyr, ID 2127202 has been located.\n",
      "Shivrājpur, ID 1256450 has been located.\n",
      "Iqaluit, ID 5983720 has been located.\n",
      "Zwedru, ID 2272491 has been located.\n",
      "Kambove, ID 923058 has been located.\n",
      "Banda Aceh, ID 1215502 has been located.\n",
      "Punta Arenas, ID 3874787 has been located.\n",
      "Ribeirão das Neves, ID 3451353 has been located.\n",
      "Puerto Ayora, ID 3652764 has been located.\n",
      "Grand-Lahou, ID 2288105 has been located.\n",
      "Laas, ID 3175096 has been located.\n",
      "Mâncio Lima, ID 3663516 has been located.\n",
      "Kirkenær, ID 3150261 has been located.\n",
      "Aklavik, ID 5882953 has been located.\n",
      "Salalah, ID 286621 has been located.\n",
      "Araucária, ID 3471697 has been located.\n",
      "Ponta do Sol, ID 2264557 has been located.\n",
      "Marzuq, ID 72181 has been located.\n",
      "Kiruna, ID 605155 has been located.\n",
      "Khorixas, ID 3356213 has been located.\n",
      "Provideniya, ID 4031574 has been located.\n",
      "Vostok, ID 2013279 has been located.\n",
      "Wewak, ID 2083537 has been located.\n",
      "Nikolskoye, ID 546105 has been located.\n",
      "Port Lincoln, ID 2063036 has been located.\n",
      "Sabang, ID 1214026 has been located.\n",
      "Khāsh, ID 1160571 has been located.\n",
      "Seymchan, ID 2121373 has been located.\n",
      "Belyy Yar, ID 1510377 has been located.\n",
      "Hong Kong, ID 1819729 has been located.\n",
      "Albany, ID 5106841 has been located.\n",
      "Saldanha, ID 3361934 has been located.\n",
      "Vila Velha, ID 3445026 has been located.\n",
      "Krasnaya Gora, ID 542788 has been located.\n",
      "Calama, ID 3897347 has been located.\n",
      "Saint-Joseph, ID 6690296 has been located.\n",
      "Ipixuna, ID 3408424 has been located.\n",
      "Lubumbashi, ID 922704 has been located.\n",
      "Assiut, ID 359783 has been located.\n",
      "San Fernando, ID 1690039 has been located.\n",
      "Dawei, ID 1293625 has been located.\n",
      "Broomfield, ID 5415035 has been located.\n",
      "Kaitangata, ID 2208248 has been located.\n",
      "Saint Anthony, ID 5044290 has been located.\n",
      "Coquimbo, ID 3893629 has been located.\n",
      "Hithadhoo, ID 1282256 has been located.\n",
      "Praia, ID 3374333 has been located.\n",
      "Burns Lake, ID 5911745 has been located.\n",
      "Lorengau, ID 2092164 has been located.\n",
      "Richards Bay, ID 962367 has been located.\n",
      "Ilulissat, ID 3423146 has been located.\n",
      "Parrita, ID 3622537 has been located.\n",
      "Matagami, ID 6067747 has been located.\n",
      "San Patricio, ID 4726521 has been located.\n",
      "Novikovo, ID 487928 has been located.\n",
      "São Filipe, ID 3374210 has been located.\n",
      "Viçosa do Ceará, ID 3385106 has been located.\n",
      "Yomou, ID 2414079 has been located.\n",
      "Kumul, ID 1529484 has been located.\n",
      "Duluth, ID 5024719 has been located.\n",
      "Tuktoyaktuk, ID 6170031 has been located.\n",
      "Vestmannaeyjar, ID 3412093 has been located.\n",
      "Ajdabiya, ID 89113 has been located.\n",
      "Lázaro Cárdenas, ID 4026082 has been located.\n",
      "Esperance, ID 2071860 has been located.\n",
      "Longyearbyen, ID 2729907 has been located.\n",
      "Kiryat Gat, ID 293842 has been located.\n",
      "Santa Fe, ID 3836277 has been located.\n",
      "Porto-Novo, ID 2392087 has been located.\n",
      "Ugoofaaru, ID 1337619 has been located.\n"
     ]
    },
    {
     "name": "stdout",
     "output_type": "stream",
     "text": [
      "Beloha, ID 1067565 has been located.\n",
      "Parral, ID 4004867 has been located.\n",
      "Wakkanai, ID 2127515 has been located.\n",
      "Olsztyn, ID 763166 has been located.\n",
      "Chokurdakh, ID 2126123 has been located.\n",
      "Takāb, ID 113508 has been located.\n",
      "Cabo San Lucas, ID 3985710 has been located.\n",
      "Nanortalik, ID 3421765 has been located.\n",
      "Ciudad Bolivar, ID 3645532 has been located.\n",
      "Souillac, ID 933995 has been located.\n",
      "Ahipara, ID 2194098 has been located.\n",
      "Mackay, ID 2159220 has been located.\n",
      "Saint-Philippe, ID 935215 has been located.\n",
      "Pacific Grove, ID 5380437 has been located.\n",
      "Tilichiki, ID 2120591 has been located.\n",
      "Mossamedes, ID 3347019 has been located.\n",
      "Bahār, ID 142000 has been located.\n",
      "Itaituba, ID 3397967 has been located.\n",
      "Norman Wells, ID 6089245 has been located.\n",
      "Westport, ID 4845585 has been located.\n",
      "Sur, ID 286245 has been located.\n",
      "Kikwit, ID 2314705 has been located.\n",
      "Kajaani, ID 654899 has been located.\n",
      "San Policarpo, ID 1688696 has been located.\n",
      "Dingle, ID 1714733 has been located.\n",
      "Kuruman, ID 986134 has been located.\n",
      "Mar del Plata, ID 3430863 has been located.\n",
      "Porbandar, ID 1259395 has been located.\n",
      "Narsaq, ID 3421719 has been located.\n",
      "Naze, ID 1855540 has been located.\n",
      "Spornoye, ID 578283 has been located.\n",
      "Bairiki Village, ID 7601762 has been located.\n",
      "Bontang, ID 1648186 has been located.\n",
      "Santa Rosa, ID 1687894 has been located.\n",
      "Soldato-Aleksandrovskoye, ID 491085 has been located.\n",
      "Parkes, ID 2153778 has been located.\n",
      "Gaziantep, ID 314830 has been located.\n",
      "Port Hedland, ID 2063042 has been located.\n",
      "Mēga, ID 331259 has been located.\n",
      "Anchorage, ID 5879400 has been located.\n",
      "Bismil, ID 321031 has been located.\n",
      "Yulara, ID 6355222 has been located.\n",
      "San Quintín, ID 3984997 has been located.\n",
      "Cockburn Town, ID 3576994 has been located.\n",
      "Amambai, ID 3472391 has been located.\n",
      "Derzhavīnsk, ID 1524606 has been located.\n",
      "Chui, ID 3443061 has been located.\n",
      "Ucluelet, ID 6171633 has been located.\n",
      "Poya, ID 2138522 has been located.\n",
      "Hanmer Springs, ID 2190299 has been located.\n",
      "Airai, ID 1651810 has been located.\n",
      "Kavieng, ID 2094342 has been located.\n",
      "Tiksi, ID 2015306 has been located.\n",
      "Bilibino, ID 2126682 has been located.\n",
      "Grand Gaube, ID 934479 has been located.\n",
      "Sovetskiy, ID 1491230 has been located.\n",
      "Arrecife, ID 2521570 has been located.\n",
      "Japura, ID 1642773 has been located.\n",
      "Westerly, ID 5225631 has been located.\n",
      "Santa Cruz, ID 2561668 has been located.\n",
      "Oodweyne, ID 53372 has been located.\n",
      "Arraial do Cabo, ID 3471451 has been located.\n",
      "Eyrarbakki, ID 3413604 has been located.\n",
      "Central Point, ID 5718601 has been located.\n",
      "Lingdong, ID 2036081 has been located.\n",
      "Susanville, ID 5572400 has been located.\n",
      "Tsabong, ID 932987 has been located.\n",
      "Palana, ID 2122262 has been located.\n",
      "Rye, ID 5134693 has been located.\n",
      "Tual, ID 1623197 has been located.\n",
      "São Gabriel da Cachoeira, ID 3662342 has been located.\n",
      "Juana Díaz, ID 4565712 has been located.\n",
      "Kyra, ID 2021041 has been located.\n",
      "Laurinburg, ID 4475347 has been located.\n",
      "Skellefteå, ID 602913 has been located.\n",
      "Makakilo City, ID 5850554 has been located.\n",
      "Ponta Delgada, ID 3372783 has been located.\n",
      "Tura, ID 1254046 has been located.\n",
      "Province of Mantua, ID 3174050 has been located.\n",
      "Moose Factory, ID 6078372 has been located.\n",
      "Lebu, ID 3883457 has been located.\n",
      "Diffa, ID 2445704 has been located.\n",
      "Boa Vista, ID 3664980 has been located.\n",
      "Makat, ID 608872 has been located.\n",
      "Kruisfontein, ID 986717 has been located.\n",
      "Lavrentiya, ID 4031637 has been located.\n",
      "Besskorbnaya, ID 576672 has been located.\n",
      "Torbay, ID 6167817 has been located.\n",
      "Funes, ID 3855302 has been located.\n",
      "Loa Janan, ID 1637510 has been located.\n",
      "Becerril, ID 3689026 has been located.\n",
      "Flinders, ID 6255012 has been located.\n",
      "Tuatapere, ID 2180815 has been located.\n",
      "Opuwo, ID 3354077 has been located.\n",
      "Havelock, ID 4470244 has been located.\n",
      "Petropavlovsk-Kamchatskiy, ID 2122104 has been located.\n",
      "San Cristobal, ID 3628473 has been located.\n",
      "Kidal, ID 2455290 has been located.\n",
      "Platteville, ID 5267332 has been located.\n",
      "Gushikawa, ID 1863495 has been located.\n",
      "Chimoio, ID 1049261 has been located.\n",
      "Port-Gentil, ID 2396518 has been located.\n",
      "Shimoda, ID 1852357 has been located.\n",
      "Khandyga, ID 2022773 has been located.\n",
      "Oudtshoorn, ID 967106 has been located.\n",
      "Ayan, ID 2027316 has been located.\n",
      "Razdol'noye, ID 2017478 has been located.\n",
      "Burnie, ID 2173125 has been located.\n",
      "Najrān, ID 103630 has been located.\n",
      "Kjøpsvik, ID 3150002 has been located.\n",
      "Ulaangom, ID 1515029 has been located.\n",
      "Ancud, ID 3899695 has been located.\n",
      "San Rafael del Sur, ID 3616594 has been located.\n",
      "Bobcaygeon, ID 8125787 has been located.\n",
      "Benguela, ID 3351663 has been located.\n",
      "Sterling, ID 4787534 has been located.\n",
      "Kloulklubed, ID 7671223 has been located.\n",
      "La Ronge, ID 6050066 has been located.\n",
      "Puerto Escondido, ID 3520994 has been located.\n",
      "Marechal Cândido Rondon, ID 3457772 has been located.\n",
      "Alta Floresta, ID 6316343 has been located.\n",
      "Mayskiy, ID 528242 has been located.\n",
      "João Câmara, ID 3397315 has been located.\n",
      "Vanimo, ID 2084442 has been located.\n",
      "Umm Kaddadah, ID 364933 has been located.\n",
      "Sokolo, ID 2450849 has been located.\n",
      "San Miguel de Cozumel, ID 3530103 has been located.\n",
      "Stokmarknes, ID 3136690 has been located.\n",
      "Ixtapa, ID 4004293 has been located.\n",
      "Hay River, ID 5972762 has been located.\n",
      "Yangi Marg`ilon, ID 1513491 has been located.\n",
      "Acapulco de Juárez, ID 3533462 has been located.\n",
      "Soyo, ID 2236967 has been located.\n",
      "Buala, ID 2109528 has been located.\n",
      "Glinka, ID 561234 has been located.\n",
      "Aksha, ID 2028028 has been located.\n",
      "Corinth, ID 259289 has been located.\n",
      "Manggar, ID 1636426 has been located.\n",
      "Egvekinot, ID 4031742 has been located.\n",
      "Jucuarán, ID 3585395 has been located.\n",
      "Roald, ID 3141667 has been located.\n",
      "St. George's, ID 3579925 has been located.\n",
      "Bambanglipuro, ID 1650434 has been located.\n",
      "Samarai, ID 2132606 has been located.\n",
      "Måløy, ID 3146487 has been located.\n",
      "Sangar, ID 2017215 has been located.\n",
      "Rio Grande, ID 3451138 has been located.\n",
      "Karratha, ID 6620339 has been located.\n",
      "Bagdarin, ID 2027244 has been located.\n",
      "Zhanakorgan, ID 1517323 has been located.\n",
      "Sampit, ID 1628884 has been located.\n",
      "Yeniseysk, ID 1485997 has been located.\n",
      "Bartica, ID 3379507 has been located.\n",
      "Adrar, ID 2381972 has been located.\n",
      "Vila Franca do Campo, ID 3372472 has been located.\n",
      "Pio IX, ID 3392020 has been located.\n",
      "Artyom, ID 587207 has been located.\n",
      "Erie, ID 5116642 has been located.\n",
      "Jumla, ID 1283285 has been located.\n",
      "Shelburne, ID 6145890 has been located.\n",
      "Ribeira Grande, ID 3372707 has been located.\n",
      "Seidu, ID 2404036 has been located.\n",
      "Havre-St-Pierre, ID 5972291 has been located.\n",
      "Alice Springs, ID 2077895 has been located.\n",
      "Massakory, ID 2428228 has been located.\n",
      "Gravdal, ID 3155152 has been located.\n",
      "Hoquiam, ID 5797693 has been located.\n",
      "Ondjiva, ID 3346821 has been located.\n",
      "Sibolga, ID 1213855 has been located.\n",
      "Mmabatho, ID 975436 has been located.\n",
      "Alindao, ID 240999 has been located.\n",
      "Pirgos, ID 261814 has been located.\n",
      "Pisco, ID 3932145 has been located.\n",
      "Itumba, ID 158876 has been located.\n",
      "Chifeng, ID 2038067 has been located.\n",
      "Martapura, ID 1636022 has been located.\n",
      "Grover Beach, ID 5354552 has been located.\n",
      "Bodden Town, ID 3580733 has been located.\n",
      "Ḩasanābād, ID 7052836 has been located.\n",
      "Terney, ID 2015352 has been located.\n",
      "Impfondo, ID 2259655 has been located.\n",
      "Canguçu, ID 3467512 has been located.\n",
      "Beyneu, ID 610298 has been located.\n",
      "Waitati, ID 2179825 has been located.\n",
      "Mehamn, ID 778707 has been located.\n",
      "Visnes, ID 3131500 has been located.\n",
      "Livingston, ID 2644204 has been located.\n",
      "Portage, ID 5167284 has been located.\n",
      "Mount Gambier, ID 2156643 has been located.\n",
      "Klyuchi, ID 1503153 has been located.\n",
      "Rocha, ID 3440777 has been located.\n",
      "College, ID 5859699 has been located.\n",
      "Les Cayes, ID 3728097 has been located.\n",
      "Talnakh, ID 1490256 has been located.\n",
      "Geraldton, ID 2070998 has been located.\n",
      "Saint George, ID 5546220 has been located.\n",
      "Maceió, ID 3395981 has been located.\n",
      "Iquitos, ID 3696183 has been located.\n",
      "Nehe, ID 2035610 has been located.\n",
      "Monforte de Lemos, ID 3116478 has been located.\n",
      "Tabursuq, ID 2464855 has been located.\n",
      "Toamasina, ID 1053384 has been located.\n",
      "Lagoa, ID 3372964 has been located.\n",
      "Puri, ID 1259184 has been located.\n",
      "Barreiras, ID 3470583 has been located.\n",
      "Kasama, ID 912764 has been located.\n",
      "Taoudenni, ID 2450173 has been located.\n",
      "Byron Bay, ID 2172880 has been located.\n"
     ]
    },
    {
     "name": "stdout",
     "output_type": "stream",
     "text": [
      "Jimo, ID 1805757 has been located.\n",
      "Haines Junction, ID 5969025 has been located.\n",
      "Beisfjord, ID 3144987 has been located.\n",
      "Ilhabela, ID 3461425 has been located.\n",
      "Coachella, ID 5338166 has been located.\n",
      "Benxi, ID 2038300 has been located.\n",
      "Menongue, ID 3347353 has been located.\n",
      "Biak, ID 1637001 has been located.\n",
      "Hofn, ID 2630299 has been located.\n",
      "Sarāi Mīr, ID 1257260 has been located.\n",
      "Asău, ID 686090 has been located.\n",
      "Zhigansk, ID 2012530 has been located.\n",
      "Moshenskoye, ID 525025 has been located.\n",
      "Vredendal, ID 3359736 has been located.\n",
      "Jining, ID 1805518 has been located.\n",
      "Townsville, ID 2146142 has been located.\n",
      "Zelenoborskiy, ID 463838 has been located.\n",
      "Metro, ID 1635283 has been located.\n",
      "Barinas, ID 3648546 has been located.\n",
      "Villagarzón, ID 3665992 has been located.\n",
      "Atar, ID 2381334 has been located.\n",
      "Moussoro, ID 2427336 has been located.\n",
      "Przhevalskoye, ID 514127 has been located.\n",
      "Saint Paul Harbor, ID 5866583 has been located.\n",
      "Arlit, ID 2447513 has been located.\n",
      "Mae Sai, ID 1152194 has been located.\n",
      "Morón, ID 3430545 has been located.\n",
      "Quesnel, ID 6115187 has been located.\n",
      "Buchanan, ID 2278158 has been located.\n",
      "Quang Ngai, ID 1568770 has been located.\n",
      "Tolaga Bay, ID 2180991 has been located.\n",
      "Gerāsh, ID 133595 has been located.\n",
      "San Luis, ID 3837056 has been located.\n",
      "Acajutla, ID 3587498 has been located.\n",
      "Okhotsk, ID 2122605 has been located.\n",
      "Irgakly, ID 556199 has been located.\n",
      "Preobrazheniye, ID 2017658 has been located.\n",
      "Noyabrsk, ID 1496503 has been located.\n",
      "Iguape, ID 3461465 has been located.\n",
      "Along, ID 1278969 has been located.\n",
      "Kudahuvadhoo, ID 1337607 has been located.\n",
      "Meulaboh, ID 1214488 has been located.\n",
      "Riyadh, ID 108410 has been located.\n",
      "Monrovia, ID 2274895 has been located.\n",
      "Suclayin, ID 1700994 has been located.\n",
      "Sambava, ID 1056899 has been located.\n",
      "Vanavara, ID 2013727 has been located.\n",
      "Stornoway, ID 2636790 has been located.\n",
      "Fairbanks, ID 5861897 has been located.\n",
      "Nantucket, ID 4944903 has been located.\n",
      "Baiyin, ID 1817240 has been located.\n",
      "Carutapera, ID 3402648 has been located.\n",
      "Baykit, ID 1510689 has been located.\n",
      "Maricaban, ID 1700962 has been located.\n",
      "Turukhansk, ID 1488903 has been located.\n",
      "Maragogi, ID 3395458 has been located.\n",
      "Srednekolymsk, ID 2121025 has been located.\n",
      "Sept-Îles, ID 6144312 has been located.\n",
      "Acaraú, ID 3408368 has been located.\n",
      "Hobyo, ID 57000 has been located.\n",
      "Mount Isa, ID 2065594 has been located.\n",
      "Raudeberg, ID 3146487 has been located.\n",
      "Nowy Dwór Gdański, ID 3090502 has been located.\n",
      "Uddevalla, ID 2666670 has been located.\n",
      "Sobolevo, ID 525426 has been located.\n",
      "Isangel, ID 2136825 has been located.\n",
      "Palmerston, ID 6301965 has been located.\n",
      "Kaeo, ID 2189343 has been located.\n",
      "Bacolod City, ID 1729564 has been located.\n",
      "San Rafael, ID 3836669 has been located.\n",
      "Sola, ID 2134814 has been located.\n",
      "São João da Barra, ID 3448903 has been located.\n",
      "Msowero, ID 152933 has been located.\n",
      "Port Hawkesbury, ID 6111867 has been located.\n",
      "Singleton, ID 2149475 has been located.\n",
      "Coari, ID 3664539 has been located.\n",
      "Pucallpa, ID 3693345 has been located.\n",
      "Srandakan, ID 1626493 has been located.\n",
      "Gao, ID 2457161 has been located.\n",
      "Tarboro, ID 4494513 has been located.\n",
      "Bend, ID 5713587 has been located.\n",
      "Santo Amaro da Imperatriz, ID 3449711 has been located.\n",
      "Sakakah, ID 102527 has been located.\n",
      "Kargopol', ID 552465 has been located.\n",
      "Dodge City, ID 5445298 has been located.\n",
      "Fare, ID 4034496 has been located.\n",
      "Constitución, ID 3893726 has been located.\n",
      "Scarborough, ID 2638419 has been located.\n",
      "Piopio, ID 2184564 has been located.\n",
      "Kabalo, ID 215668 has been located.\n",
      "Surat Thani, ID 1150514 has been located.\n",
      "Racine, ID 5268253 has been located.\n",
      "Balkhash, ID 1525798 has been located.\n",
      "Bandarbeyla, ID 64814 has been located.\n",
      "Palmer, ID 4946620 has been located.\n",
      "Kalmunai, ID 1242110 has been located.\n",
      "Kawalu, ID 1640902 has been located.\n",
      "Jalu, ID 86049 has been located.\n",
      "Kerema, ID 2094144 has been located.\n",
      "Kamiiso, ID 2129766 has been located.\n",
      "Ust-Tsilma, ID 477940 has been located.\n",
      "Lyngseidet, ID 778829 has been located.\n",
      "Horadiz, ID 148003 has been located.\n",
      "Port Shepstone, ID 964406 has been located.\n",
      "Lumphat, ID 1830377 has been located.\n",
      "Sisimiut, ID 3419842 has been located.\n",
      "Mayumba, ID 2399001 has been located.\n",
      "Cabrero, ID 3897557 has been located.\n",
      "Nishihara, ID 1855342 has been located.\n",
      "Hualmay, ID 3939761 has been located.\n",
      "Minnedosa, ID 6074882 has been located.\n",
      "Xining, ID 1788852 has been located.\n",
      "Belmopan, ID 3582672 has been located.\n",
      "Ngerengere, ID 151678 has been located.\n",
      "Weligama, ID 1223738 has been located.\n",
      "Gretna, ID 4326575 has been located.\n",
      "Baturaja, ID 1649593 has been located.\n",
      "Mildura, ID 2157698 has been located.\n",
      "Weyburn, ID 6179652 has been located.\n",
      "Mfou, ID 2223527 has been located.\n",
      "Broken Hill, ID 2173911 has been located.\n",
      "Mnogovershinnyy, ID 2019935 has been located.\n",
      "Zhezkazgan, ID 1516589 has been located.\n",
      "Taltal, ID 3870243 has been located.\n",
      "Meadow Lake, ID 5478673 has been located.\n",
      "Boundiali, ID 2290836 has been located.\n",
      "Yarkovo, ID 1486369 has been located.\n",
      "Eniwa, ID 2130452 has been located.\n",
      "Kodinsk, ID 1503037 has been located.\n",
      "Puerto Carreño, ID 3671519 has been located.\n",
      "Amapá, ID 3407762 has been located.\n",
      "Shirokiy, ID 2016680 has been located.\n",
      "The Pas, ID 6164499 has been located.\n",
      "Ngunguru, ID 2186111 has been located.\n",
      "Nkowakowa, ID 970341 has been located.\n",
      "Hamilton, ID 4513583 has been located.\n"
     ]
    }
   ],
   "source": [
    "# Basic API call URL\n",
    "url = \"http://api.openweathermap.org/data/2.5/weather?\"\n",
    "\n",
    "# Create empty lists to hold data from API calls\n",
    "call_city = []\n",
    "call_city_num = []\n",
    "lat = []\n",
    "long = []\n",
    "temp = []\n",
    "humid = []\n",
    "cloudy = []\n",
    "wind_sp = []\n",
    "\n",
    "# Perform API calls using random cities generated\n",
    "# Append data for each city to the relevant list\n",
    "for city in cities:\n",
    "    query_url = f\"{url}q={city}&appid={weather_api_key}\"\n",
    "    response = requests.get(query_url).json()\n",
    "    \n",
    "    try:\n",
    "        name = response['name']\n",
    "        id_num = response['id']\n",
    "        call_city.append(response['name'])\n",
    "        call_city_num.append(response['id'])\n",
    "        lat.append(response['coord']['lat'])\n",
    "        long.append(response['coord']['lon'])\n",
    "        temp.append(response['main']['temp'])\n",
    "        humid.append(response['main']['humidity'])\n",
    "        cloudy.append(response['clouds']['all'])\n",
    "        wind_sp.append(response['wind']['speed'])\n",
    "        print(f\"{name}, ID {id_num} has been located.\")\n",
    "    \n",
    "    except:\n",
    "        pass"
   ]
  },
  {
   "cell_type": "markdown",
   "metadata": {},
   "source": [
    "## Convert Raw Data to DataFrame\n",
    "* Export the city data into a .csv.\n",
    "* Display the DataFrame"
   ]
  },
  {
   "cell_type": "code",
   "execution_count": 5,
   "metadata": {},
   "outputs": [
    {
     "data": {
      "text/html": [
       "<div>\n",
       "<style scoped>\n",
       "    .dataframe tbody tr th:only-of-type {\n",
       "        vertical-align: middle;\n",
       "    }\n",
       "\n",
       "    .dataframe tbody tr th {\n",
       "        vertical-align: top;\n",
       "    }\n",
       "\n",
       "    .dataframe thead th {\n",
       "        text-align: right;\n",
       "    }\n",
       "</style>\n",
       "<table border=\"1\" class=\"dataframe\">\n",
       "  <thead>\n",
       "    <tr style=\"text-align: right;\">\n",
       "      <th></th>\n",
       "      <th>City</th>\n",
       "      <th>City ID</th>\n",
       "      <th>Latitude</th>\n",
       "      <th>Longitude</th>\n",
       "      <th>Temperature (k)</th>\n",
       "      <th>Humidity (%)</th>\n",
       "      <th>Cloudiness (%)</th>\n",
       "      <th>Wind Speed (m/sec)</th>\n",
       "    </tr>\n",
       "  </thead>\n",
       "  <tbody>\n",
       "    <tr>\n",
       "      <th>0</th>\n",
       "      <td>Husavik</td>\n",
       "      <td>2629833</td>\n",
       "      <td>66.0449</td>\n",
       "      <td>-17.3389</td>\n",
       "      <td>283.10</td>\n",
       "      <td>94</td>\n",
       "      <td>100</td>\n",
       "      <td>0.50</td>\n",
       "    </tr>\n",
       "    <tr>\n",
       "      <th>1</th>\n",
       "      <td>Qaanaaq</td>\n",
       "      <td>3831208</td>\n",
       "      <td>77.4840</td>\n",
       "      <td>-69.3632</td>\n",
       "      <td>272.91</td>\n",
       "      <td>81</td>\n",
       "      <td>100</td>\n",
       "      <td>2.02</td>\n",
       "    </tr>\n",
       "    <tr>\n",
       "      <th>2</th>\n",
       "      <td>Hilo</td>\n",
       "      <td>5855927</td>\n",
       "      <td>19.7297</td>\n",
       "      <td>-155.0900</td>\n",
       "      <td>300.40</td>\n",
       "      <td>63</td>\n",
       "      <td>1</td>\n",
       "      <td>5.66</td>\n",
       "    </tr>\n",
       "    <tr>\n",
       "      <th>3</th>\n",
       "      <td>Ozinki</td>\n",
       "      <td>513329</td>\n",
       "      <td>51.1786</td>\n",
       "      <td>49.6769</td>\n",
       "      <td>287.53</td>\n",
       "      <td>79</td>\n",
       "      <td>98</td>\n",
       "      <td>2.67</td>\n",
       "    </tr>\n",
       "    <tr>\n",
       "      <th>4</th>\n",
       "      <td>Bambous Virieux</td>\n",
       "      <td>1106677</td>\n",
       "      <td>-20.3428</td>\n",
       "      <td>57.7575</td>\n",
       "      <td>295.52</td>\n",
       "      <td>100</td>\n",
       "      <td>75</td>\n",
       "      <td>6.17</td>\n",
       "    </tr>\n",
       "    <tr>\n",
       "      <th>...</th>\n",
       "      <td>...</td>\n",
       "      <td>...</td>\n",
       "      <td>...</td>\n",
       "      <td>...</td>\n",
       "      <td>...</td>\n",
       "      <td>...</td>\n",
       "      <td>...</td>\n",
       "      <td>...</td>\n",
       "    </tr>\n",
       "    <tr>\n",
       "      <th>547</th>\n",
       "      <td>Shirokiy</td>\n",
       "      <td>2016680</td>\n",
       "      <td>49.7580</td>\n",
       "      <td>129.5230</td>\n",
       "      <td>284.75</td>\n",
       "      <td>92</td>\n",
       "      <td>100</td>\n",
       "      <td>4.09</td>\n",
       "    </tr>\n",
       "    <tr>\n",
       "      <th>548</th>\n",
       "      <td>The Pas</td>\n",
       "      <td>6164499</td>\n",
       "      <td>53.8251</td>\n",
       "      <td>-101.2541</td>\n",
       "      <td>298.16</td>\n",
       "      <td>31</td>\n",
       "      <td>20</td>\n",
       "      <td>1.14</td>\n",
       "    </tr>\n",
       "    <tr>\n",
       "      <th>549</th>\n",
       "      <td>Ngunguru</td>\n",
       "      <td>2186111</td>\n",
       "      <td>-35.6167</td>\n",
       "      <td>174.5000</td>\n",
       "      <td>292.04</td>\n",
       "      <td>74</td>\n",
       "      <td>100</td>\n",
       "      <td>5.36</td>\n",
       "    </tr>\n",
       "    <tr>\n",
       "      <th>550</th>\n",
       "      <td>Nkowakowa</td>\n",
       "      <td>970341</td>\n",
       "      <td>-23.8878</td>\n",
       "      <td>30.2871</td>\n",
       "      <td>275.18</td>\n",
       "      <td>78</td>\n",
       "      <td>0</td>\n",
       "      <td>1.28</td>\n",
       "    </tr>\n",
       "    <tr>\n",
       "      <th>551</th>\n",
       "      <td>Hamilton</td>\n",
       "      <td>4513583</td>\n",
       "      <td>39.1834</td>\n",
       "      <td>-84.5333</td>\n",
       "      <td>298.66</td>\n",
       "      <td>47</td>\n",
       "      <td>1</td>\n",
       "      <td>3.09</td>\n",
       "    </tr>\n",
       "  </tbody>\n",
       "</table>\n",
       "<p>552 rows × 8 columns</p>\n",
       "</div>"
      ],
      "text/plain": [
       "                City  City ID  Latitude  Longitude  Temperature (k)  \\\n",
       "0            Husavik  2629833   66.0449   -17.3389           283.10   \n",
       "1            Qaanaaq  3831208   77.4840   -69.3632           272.91   \n",
       "2               Hilo  5855927   19.7297  -155.0900           300.40   \n",
       "3             Ozinki   513329   51.1786    49.6769           287.53   \n",
       "4    Bambous Virieux  1106677  -20.3428    57.7575           295.52   \n",
       "..               ...      ...       ...        ...              ...   \n",
       "547         Shirokiy  2016680   49.7580   129.5230           284.75   \n",
       "548          The Pas  6164499   53.8251  -101.2541           298.16   \n",
       "549         Ngunguru  2186111  -35.6167   174.5000           292.04   \n",
       "550        Nkowakowa   970341  -23.8878    30.2871           275.18   \n",
       "551         Hamilton  4513583   39.1834   -84.5333           298.66   \n",
       "\n",
       "     Humidity (%)  Cloudiness (%)  Wind Speed (m/sec)  \n",
       "0              94             100                0.50  \n",
       "1              81             100                2.02  \n",
       "2              63               1                5.66  \n",
       "3              79              98                2.67  \n",
       "4             100              75                6.17  \n",
       "..            ...             ...                 ...  \n",
       "547            92             100                4.09  \n",
       "548            31              20                1.14  \n",
       "549            74             100                5.36  \n",
       "550            78               0                1.28  \n",
       "551            47               1                3.09  \n",
       "\n",
       "[552 rows x 8 columns]"
      ]
     },
     "execution_count": 5,
     "metadata": {},
     "output_type": "execute_result"
    }
   ],
   "source": [
    "# Create a dataframe from weather data lists\n",
    "df = pd.DataFrame(list(zip(call_city, call_city_num, lat, long, temp, humid, cloudy, wind_sp)),\n",
    "                 columns = ['City', 'City ID', 'Latitude', 'Longitude', 'Temperature (k)', 'Humidity (%)', 'Cloudiness (%)', 'Wind Speed (m/sec)'])\n",
    "df"
   ]
  },
  {
   "cell_type": "code",
   "execution_count": 6,
   "metadata": {},
   "outputs": [],
   "source": [
    "# Send dataframe to CSV file\n",
    "df.to_csv(output_data_file, index=False)"
   ]
  },
  {
   "cell_type": "markdown",
   "metadata": {},
   "source": [
    "## Inspect Data\n",
    "----\n",
    "###  Remove Cities where Humidity > 100%\n",
    "Skip this step if there are no cities that have humidity > 100%. "
   ]
  },
  {
   "cell_type": "code",
   "execution_count": 7,
   "metadata": {},
   "outputs": [
    {
     "data": {
      "text/html": [
       "<div>\n",
       "<style scoped>\n",
       "    .dataframe tbody tr th:only-of-type {\n",
       "        vertical-align: middle;\n",
       "    }\n",
       "\n",
       "    .dataframe tbody tr th {\n",
       "        vertical-align: top;\n",
       "    }\n",
       "\n",
       "    .dataframe thead th {\n",
       "        text-align: right;\n",
       "    }\n",
       "</style>\n",
       "<table border=\"1\" class=\"dataframe\">\n",
       "  <thead>\n",
       "    <tr style=\"text-align: right;\">\n",
       "      <th></th>\n",
       "      <th>City</th>\n",
       "      <th>City ID</th>\n",
       "      <th>Latitude</th>\n",
       "      <th>Longitude</th>\n",
       "      <th>Temperature (k)</th>\n",
       "      <th>Humidity (%)</th>\n",
       "      <th>Cloudiness (%)</th>\n",
       "      <th>Wind Speed (m/sec)</th>\n",
       "    </tr>\n",
       "  </thead>\n",
       "  <tbody>\n",
       "    <tr>\n",
       "      <th>98</th>\n",
       "      <td>Medina</td>\n",
       "      <td>109223</td>\n",
       "      <td>24.4686</td>\n",
       "      <td>39.6142</td>\n",
       "      <td>309.15</td>\n",
       "      <td>7</td>\n",
       "      <td>0</td>\n",
       "      <td>2.57</td>\n",
       "    </tr>\n",
       "    <tr>\n",
       "      <th>440</th>\n",
       "      <td>Arlit</td>\n",
       "      <td>2447513</td>\n",
       "      <td>18.7369</td>\n",
       "      <td>7.3853</td>\n",
       "      <td>306.81</td>\n",
       "      <td>10</td>\n",
       "      <td>0</td>\n",
       "      <td>3.97</td>\n",
       "    </tr>\n",
       "    <tr>\n",
       "      <th>403</th>\n",
       "      <td>Saint George</td>\n",
       "      <td>5546220</td>\n",
       "      <td>37.1041</td>\n",
       "      <td>-113.5841</td>\n",
       "      <td>313.25</td>\n",
       "      <td>10</td>\n",
       "      <td>1</td>\n",
       "      <td>0.89</td>\n",
       "    </tr>\n",
       "    <tr>\n",
       "      <th>6</th>\n",
       "      <td>Dārāb</td>\n",
       "      <td>137956</td>\n",
       "      <td>28.7519</td>\n",
       "      <td>54.5444</td>\n",
       "      <td>302.09</td>\n",
       "      <td>10</td>\n",
       "      <td>0</td>\n",
       "      <td>1.76</td>\n",
       "    </tr>\n",
       "    <tr>\n",
       "      <th>305</th>\n",
       "      <td>Kidal</td>\n",
       "      <td>2455290</td>\n",
       "      <td>18.4411</td>\n",
       "      <td>1.4078</td>\n",
       "      <td>307.84</td>\n",
       "      <td>11</td>\n",
       "      <td>4</td>\n",
       "      <td>3.74</td>\n",
       "    </tr>\n",
       "    <tr>\n",
       "      <th>...</th>\n",
       "      <td>...</td>\n",
       "      <td>...</td>\n",
       "      <td>...</td>\n",
       "      <td>...</td>\n",
       "      <td>...</td>\n",
       "      <td>...</td>\n",
       "      <td>...</td>\n",
       "      <td>...</td>\n",
       "    </tr>\n",
       "    <tr>\n",
       "      <th>409</th>\n",
       "      <td>Toamasina</td>\n",
       "      <td>1053384</td>\n",
       "      <td>-18.1667</td>\n",
       "      <td>49.3833</td>\n",
       "      <td>292.15</td>\n",
       "      <td>100</td>\n",
       "      <td>40</td>\n",
       "      <td>1.03</td>\n",
       "    </tr>\n",
       "    <tr>\n",
       "      <th>255</th>\n",
       "      <td>Ucluelet</td>\n",
       "      <td>6171633</td>\n",
       "      <td>48.9329</td>\n",
       "      <td>-125.5528</td>\n",
       "      <td>284.90</td>\n",
       "      <td>100</td>\n",
       "      <td>90</td>\n",
       "      <td>7.20</td>\n",
       "    </tr>\n",
       "    <tr>\n",
       "      <th>144</th>\n",
       "      <td>Punta Arenas</td>\n",
       "      <td>3874787</td>\n",
       "      <td>-53.1500</td>\n",
       "      <td>-70.9167</td>\n",
       "      <td>273.93</td>\n",
       "      <td>100</td>\n",
       "      <td>90</td>\n",
       "      <td>3.60</td>\n",
       "    </tr>\n",
       "    <tr>\n",
       "      <th>114</th>\n",
       "      <td>Marystown</td>\n",
       "      <td>6067472</td>\n",
       "      <td>47.1666</td>\n",
       "      <td>-55.1483</td>\n",
       "      <td>284.18</td>\n",
       "      <td>100</td>\n",
       "      <td>100</td>\n",
       "      <td>4.09</td>\n",
       "    </tr>\n",
       "    <tr>\n",
       "      <th>506</th>\n",
       "      <td>Surat Thani</td>\n",
       "      <td>1150514</td>\n",
       "      <td>9.1667</td>\n",
       "      <td>99.2500</td>\n",
       "      <td>299.14</td>\n",
       "      <td>100</td>\n",
       "      <td>20</td>\n",
       "      <td>3.38</td>\n",
       "    </tr>\n",
       "  </tbody>\n",
       "</table>\n",
       "<p>552 rows × 8 columns</p>\n",
       "</div>"
      ],
      "text/plain": [
       "             City  City ID  Latitude  Longitude  Temperature (k)  \\\n",
       "98         Medina   109223   24.4686    39.6142           309.15   \n",
       "440         Arlit  2447513   18.7369     7.3853           306.81   \n",
       "403  Saint George  5546220   37.1041  -113.5841           313.25   \n",
       "6           Dārāb   137956   28.7519    54.5444           302.09   \n",
       "305         Kidal  2455290   18.4411     1.4078           307.84   \n",
       "..            ...      ...       ...        ...              ...   \n",
       "409     Toamasina  1053384  -18.1667    49.3833           292.15   \n",
       "255      Ucluelet  6171633   48.9329  -125.5528           284.90   \n",
       "144  Punta Arenas  3874787  -53.1500   -70.9167           273.93   \n",
       "114     Marystown  6067472   47.1666   -55.1483           284.18   \n",
       "506   Surat Thani  1150514    9.1667    99.2500           299.14   \n",
       "\n",
       "     Humidity (%)  Cloudiness (%)  Wind Speed (m/sec)  \n",
       "98              7               0                2.57  \n",
       "440            10               0                3.97  \n",
       "403            10               1                0.89  \n",
       "6              10               0                1.76  \n",
       "305            11               4                3.74  \n",
       "..            ...             ...                 ...  \n",
       "409           100              40                1.03  \n",
       "255           100              90                7.20  \n",
       "144           100              90                3.60  \n",
       "114           100             100                4.09  \n",
       "506           100              20                3.38  \n",
       "\n",
       "[552 rows x 8 columns]"
      ]
     },
     "execution_count": 7,
     "metadata": {},
     "output_type": "execute_result"
    }
   ],
   "source": [
    "# Ensure no cities have humidity values > 100%\n",
    "df.sort_values('Humidity (%)')"
   ]
  },
  {
   "cell_type": "markdown",
   "metadata": {},
   "source": [
    "### Convert Data Units"
   ]
  },
  {
   "cell_type": "code",
   "execution_count": 8,
   "metadata": {},
   "outputs": [
    {
     "data": {
      "text/html": [
       "<div>\n",
       "<style scoped>\n",
       "    .dataframe tbody tr th:only-of-type {\n",
       "        vertical-align: middle;\n",
       "    }\n",
       "\n",
       "    .dataframe tbody tr th {\n",
       "        vertical-align: top;\n",
       "    }\n",
       "\n",
       "    .dataframe thead th {\n",
       "        text-align: right;\n",
       "    }\n",
       "</style>\n",
       "<table border=\"1\" class=\"dataframe\">\n",
       "  <thead>\n",
       "    <tr style=\"text-align: right;\">\n",
       "      <th></th>\n",
       "      <th>City</th>\n",
       "      <th>City ID</th>\n",
       "      <th>Latitude</th>\n",
       "      <th>Longitude</th>\n",
       "      <th>Temperature (k)</th>\n",
       "      <th>Humidity (%)</th>\n",
       "      <th>Cloudiness (%)</th>\n",
       "      <th>Wind Speed (m/sec)</th>\n",
       "      <th>Temperature (F)</th>\n",
       "      <th>Wind Speed (mph)</th>\n",
       "    </tr>\n",
       "  </thead>\n",
       "  <tbody>\n",
       "    <tr>\n",
       "      <th>0</th>\n",
       "      <td>Husavik</td>\n",
       "      <td>2629833</td>\n",
       "      <td>66.0449</td>\n",
       "      <td>-17.3389</td>\n",
       "      <td>283.10</td>\n",
       "      <td>94</td>\n",
       "      <td>100</td>\n",
       "      <td>0.50</td>\n",
       "      <td>49.910</td>\n",
       "      <td>1.11850</td>\n",
       "    </tr>\n",
       "    <tr>\n",
       "      <th>1</th>\n",
       "      <td>Qaanaaq</td>\n",
       "      <td>3831208</td>\n",
       "      <td>77.4840</td>\n",
       "      <td>-69.3632</td>\n",
       "      <td>272.91</td>\n",
       "      <td>81</td>\n",
       "      <td>100</td>\n",
       "      <td>2.02</td>\n",
       "      <td>31.568</td>\n",
       "      <td>4.51874</td>\n",
       "    </tr>\n",
       "    <tr>\n",
       "      <th>2</th>\n",
       "      <td>Hilo</td>\n",
       "      <td>5855927</td>\n",
       "      <td>19.7297</td>\n",
       "      <td>-155.0900</td>\n",
       "      <td>300.40</td>\n",
       "      <td>63</td>\n",
       "      <td>1</td>\n",
       "      <td>5.66</td>\n",
       "      <td>81.050</td>\n",
       "      <td>12.66142</td>\n",
       "    </tr>\n",
       "    <tr>\n",
       "      <th>3</th>\n",
       "      <td>Ozinki</td>\n",
       "      <td>513329</td>\n",
       "      <td>51.1786</td>\n",
       "      <td>49.6769</td>\n",
       "      <td>287.53</td>\n",
       "      <td>79</td>\n",
       "      <td>98</td>\n",
       "      <td>2.67</td>\n",
       "      <td>57.884</td>\n",
       "      <td>5.97279</td>\n",
       "    </tr>\n",
       "    <tr>\n",
       "      <th>4</th>\n",
       "      <td>Bambous Virieux</td>\n",
       "      <td>1106677</td>\n",
       "      <td>-20.3428</td>\n",
       "      <td>57.7575</td>\n",
       "      <td>295.52</td>\n",
       "      <td>100</td>\n",
       "      <td>75</td>\n",
       "      <td>6.17</td>\n",
       "      <td>72.266</td>\n",
       "      <td>13.80229</td>\n",
       "    </tr>\n",
       "    <tr>\n",
       "      <th>...</th>\n",
       "      <td>...</td>\n",
       "      <td>...</td>\n",
       "      <td>...</td>\n",
       "      <td>...</td>\n",
       "      <td>...</td>\n",
       "      <td>...</td>\n",
       "      <td>...</td>\n",
       "      <td>...</td>\n",
       "      <td>...</td>\n",
       "      <td>...</td>\n",
       "    </tr>\n",
       "    <tr>\n",
       "      <th>547</th>\n",
       "      <td>Shirokiy</td>\n",
       "      <td>2016680</td>\n",
       "      <td>49.7580</td>\n",
       "      <td>129.5230</td>\n",
       "      <td>284.75</td>\n",
       "      <td>92</td>\n",
       "      <td>100</td>\n",
       "      <td>4.09</td>\n",
       "      <td>52.880</td>\n",
       "      <td>9.14933</td>\n",
       "    </tr>\n",
       "    <tr>\n",
       "      <th>548</th>\n",
       "      <td>The Pas</td>\n",
       "      <td>6164499</td>\n",
       "      <td>53.8251</td>\n",
       "      <td>-101.2541</td>\n",
       "      <td>298.16</td>\n",
       "      <td>31</td>\n",
       "      <td>20</td>\n",
       "      <td>1.14</td>\n",
       "      <td>77.018</td>\n",
       "      <td>2.55018</td>\n",
       "    </tr>\n",
       "    <tr>\n",
       "      <th>549</th>\n",
       "      <td>Ngunguru</td>\n",
       "      <td>2186111</td>\n",
       "      <td>-35.6167</td>\n",
       "      <td>174.5000</td>\n",
       "      <td>292.04</td>\n",
       "      <td>74</td>\n",
       "      <td>100</td>\n",
       "      <td>5.36</td>\n",
       "      <td>66.002</td>\n",
       "      <td>11.99032</td>\n",
       "    </tr>\n",
       "    <tr>\n",
       "      <th>550</th>\n",
       "      <td>Nkowakowa</td>\n",
       "      <td>970341</td>\n",
       "      <td>-23.8878</td>\n",
       "      <td>30.2871</td>\n",
       "      <td>275.18</td>\n",
       "      <td>78</td>\n",
       "      <td>0</td>\n",
       "      <td>1.28</td>\n",
       "      <td>35.654</td>\n",
       "      <td>2.86336</td>\n",
       "    </tr>\n",
       "    <tr>\n",
       "      <th>551</th>\n",
       "      <td>Hamilton</td>\n",
       "      <td>4513583</td>\n",
       "      <td>39.1834</td>\n",
       "      <td>-84.5333</td>\n",
       "      <td>298.66</td>\n",
       "      <td>47</td>\n",
       "      <td>1</td>\n",
       "      <td>3.09</td>\n",
       "      <td>77.918</td>\n",
       "      <td>6.91233</td>\n",
       "    </tr>\n",
       "  </tbody>\n",
       "</table>\n",
       "<p>552 rows × 10 columns</p>\n",
       "</div>"
      ],
      "text/plain": [
       "                City  City ID  Latitude  Longitude  Temperature (k)  \\\n",
       "0            Husavik  2629833   66.0449   -17.3389           283.10   \n",
       "1            Qaanaaq  3831208   77.4840   -69.3632           272.91   \n",
       "2               Hilo  5855927   19.7297  -155.0900           300.40   \n",
       "3             Ozinki   513329   51.1786    49.6769           287.53   \n",
       "4    Bambous Virieux  1106677  -20.3428    57.7575           295.52   \n",
       "..               ...      ...       ...        ...              ...   \n",
       "547         Shirokiy  2016680   49.7580   129.5230           284.75   \n",
       "548          The Pas  6164499   53.8251  -101.2541           298.16   \n",
       "549         Ngunguru  2186111  -35.6167   174.5000           292.04   \n",
       "550        Nkowakowa   970341  -23.8878    30.2871           275.18   \n",
       "551         Hamilton  4513583   39.1834   -84.5333           298.66   \n",
       "\n",
       "     Humidity (%)  Cloudiness (%)  Wind Speed (m/sec)  Temperature (F)  \\\n",
       "0              94             100                0.50           49.910   \n",
       "1              81             100                2.02           31.568   \n",
       "2              63               1                5.66           81.050   \n",
       "3              79              98                2.67           57.884   \n",
       "4             100              75                6.17           72.266   \n",
       "..            ...             ...                 ...              ...   \n",
       "547            92             100                4.09           52.880   \n",
       "548            31              20                1.14           77.018   \n",
       "549            74             100                5.36           66.002   \n",
       "550            78               0                1.28           35.654   \n",
       "551            47               1                3.09           77.918   \n",
       "\n",
       "     Wind Speed (mph)  \n",
       "0             1.11850  \n",
       "1             4.51874  \n",
       "2            12.66142  \n",
       "3             5.97279  \n",
       "4            13.80229  \n",
       "..                ...  \n",
       "547           9.14933  \n",
       "548           2.55018  \n",
       "549          11.99032  \n",
       "550           2.86336  \n",
       "551           6.91233  \n",
       "\n",
       "[552 rows x 10 columns]"
      ]
     },
     "execution_count": 8,
     "metadata": {},
     "output_type": "execute_result"
    }
   ],
   "source": [
    "# Convert Kelvin temps to Fahrenheit temps\n",
    "df['Temperature (F)'] = (df['Temperature (k)'] - 273.15) * 9/5 + 32\n",
    "\n",
    "# Convert wind speed in meters per sec to MPH\n",
    "df['Wind Speed (mph)'] = (df['Wind Speed (m/sec)'] * 2.237)\n",
    "\n",
    "df"
   ]
  },
  {
   "cell_type": "markdown",
   "metadata": {},
   "source": [
    "## Plot the Data\n",
    "* Use proper labeling of the plots using plot titles (including date of analysis) and axes labels.\n",
    "* Save the plotted figures as .pngs."
   ]
  },
  {
   "cell_type": "markdown",
   "metadata": {},
   "source": [
    "### Latitude vs. Temperature Plot"
   ]
  },
  {
   "cell_type": "code",
   "execution_count": 9,
   "metadata": {
    "scrolled": true
   },
   "outputs": [
    {
     "data": {
      "image/png": "[encoded data removed]",
      "text/plain": [
       "<Figure size 432x288 with 1 Axes>"
      ]
     },
     "metadata": {
      "needs_background": "light"
     },
     "output_type": "display_data"
    },
    {
     "data": {
      "text/plain": [
       "<Figure size 432x288 with 0 Axes>"
      ]
     },
     "metadata": {},
     "output_type": "display_data"
    }
   ],
   "source": [
    "# Create scatter plot comparing latitude to temperature\n",
    "df.plot(kind='scatter',x='Latitude',y='Temperature (F)',color='black')\n",
    "plt.title('Latitude vs. Temperature (F), 6/2/21')\n",
    "plt.xlim(-100, 100)\n",
    "plt.ylim(0, 110)\n",
    "\n",
    "# Display the chart\n",
    "plt.show()\n",
    "\n",
    "# Set file path for image\n",
    "image_path = os.path.join(\"Output Data\", \"lat_temp_scatter.png\")\n",
    "\n",
    "# Save chart as image\n",
    "plt.savefig(image_path)"
   ]
  },
  {
   "cell_type": "markdown",
   "metadata": {},
   "source": [
    "### Latitude vs. Humidity Plot"
   ]
  },
  {
   "cell_type": "code",
   "execution_count": 10,
   "metadata": {},
   "outputs": [
    {
     "data": {
      "image/png": "[encoded data removed]",
      "text/plain": [
       "<Figure size 432x288 with 1 Axes>"
      ]
     },
     "metadata": {
      "needs_background": "light"
     },
     "output_type": "display_data"
    },
    {
     "data": {
      "text/plain": [
       "<Figure size 432x288 with 0 Axes>"
      ]
     },
     "metadata": {},
     "output_type": "display_data"
    }
   ],
   "source": [
    "# Create scatter plot comparing latitude to humidity\n",
    "df.plot(kind='scatter',x='Latitude',y='Humidity (%)',color='black')\n",
    "plt.title('Latitude vs. Humidity (%), 6/2/21')\n",
    "plt.xlim(-100, 100)\n",
    "plt.ylim(0, 110)\n",
    "\n",
    "# Display the chart\n",
    "plt.show()\n",
    "\n",
    "# Set file path for image\n",
    "image_path = os.path.join(\"Output Data\", \"lat_humid_scatter.png\")\n",
    "\n",
    "# Save chart as image\n",
    "plt.savefig(image_path)"
   ]
  },
  {
   "cell_type": "markdown",
   "metadata": {},
   "source": [
    "### Latitude vs. Cloudiness Plot"
   ]
  },
  {
   "cell_type": "code",
   "execution_count": 11,
   "metadata": {},
   "outputs": [
    {
     "data": {
      "image/png": "[encoded data removed]",
      "text/plain": [
       "<Figure size 432x288 with 1 Axes>"
      ]
     },
     "metadata": {
      "needs_background": "light"
     },
     "output_type": "display_data"
    },
    {
     "data": {
      "text/plain": [
       "<Figure size 432x288 with 0 Axes>"
      ]
     },
     "metadata": {},
     "output_type": "display_data"
    }
   ],
   "source": [
    "# Create scatter plot comparing latitude to cloudiness\n",
    "df.plot(kind='scatter',x='Latitude',y='Cloudiness (%)',color='black')\n",
    "plt.title('Latitude vs. Cloudiness (%), 6/2/21')\n",
    "plt.xlim(-100, 100)\n",
    "plt.ylim(0, 110)\n",
    "\n",
    "# Display the chart\n",
    "plt.show()\n",
    "\n",
    "# Set file path for image\n",
    "image_path = os.path.join(\"Output Data\", \"lat_cloud_scatter.png\")\n",
    "\n",
    "# Save chart as image\n",
    "plt.savefig(image_path)"
   ]
  },
  {
   "cell_type": "markdown",
   "metadata": {},
   "source": [
    "### Latitude vs. Wind Speed Plot"
   ]
  },
  {
   "cell_type": "code",
   "execution_count": 12,
   "metadata": {},
   "outputs": [
    {
     "data": {
      "image/png": "[encoded data removed]",
      "text/plain": [
       "<Figure size 432x288 with 1 Axes>"
      ]
     },
     "metadata": {
      "needs_background": "light"
     },
     "output_type": "display_data"
    },
    {
     "data": {
      "text/plain": [
       "<Figure size 432x288 with 0 Axes>"
      ]
     },
     "metadata": {},
     "output_type": "display_data"
    }
   ],
   "source": [
    "# Create scatter plot comparing latitude to wind speed\n",
    "df.plot(kind='scatter',x='Latitude',y='Wind Speed (mph)',color='black')\n",
    "plt.title('Latitude vs. Wind Speed (mph), 6/2/21')\n",
    "plt.xlim(-100, 100)\n",
    "plt.ylim(0, 50)\n",
    "\n",
    "# Display the chart\n",
    "plt.show()\n",
    "\n",
    "# Set file path for image\n",
    "image_path = os.path.join(\"Output Data\", \"lat_wind_scatter.png\")\n",
    "\n",
    "# Save chart as image\n",
    "plt.savefig(image_path)"
   ]
  },
  {
   "cell_type": "markdown",
   "metadata": {},
   "source": [
    "## Linear Regression"
   ]
  },
  {
   "cell_type": "markdown",
   "metadata": {},
   "source": [
    "### Divide Cities into Hemispheres"
   ]
  },
  {
   "cell_type": "code",
   "execution_count": 13,
   "metadata": {},
   "outputs": [],
   "source": [
    "# Assign N/S hemisphere variable\n",
    "df['Hemisphere'] = np.where(df['Latitude'] < 0, \"Southern\", \"Northern\")\n",
    "\n",
    "# Create northern hemisphere df\n",
    "north_df = df.loc[df['Hemisphere'] == \"Northern\", :]\n",
    "\n",
    "# Create southern hemisphere df\n",
    "south_df = df.loc[df['Hemisphere'] == \"Southern\", :]"
   ]
  },
  {
   "cell_type": "markdown",
   "metadata": {},
   "source": [
    "### Create Function to Run Regressions"
   ]
  },
  {
   "cell_type": "code",
   "execution_count": 16,
   "metadata": {},
   "outputs": [],
   "source": [
    "# Create a function to generate all plots\n",
    "def city_regress(dataset, column):\n",
    "    x_val = dataset['Latitude']\n",
    "    y_val = dataset[column]\n",
    "    (slope, intercept, rvalue, pvalue, stderr) = linregress(x_val, y_val)\n",
    "    regress_values = x_val * slope + intercept\n",
    "    line_eq = \"y = \" + str(round(slope,2)) + \"x + \" + str(round(intercept,2))\n",
    "    plt.scatter(x_val,y_val)\n",
    "    plt.plot(x_val,regress_values,\"r-\")\n",
    "    plt.xlabel('Latitude')\n",
    "    plt.ylabel(column)\n",
    "    plt.annotate(line_eq,(0,50),fontsize=15,color=\"red\")\n",
    "    print(f\"The r-squared is: {rvalue**2}\")\n",
    "    plt.show()"
   ]
  },
  {
   "cell_type": "markdown",
   "metadata": {},
   "source": [
    "###  Northern Hemisphere - Max Temp vs. Latitude Linear Regression"
   ]
  },
  {
   "cell_type": "code",
   "execution_count": 17,
   "metadata": {},
   "outputs": [
    {
     "name": "stdout",
     "output_type": "stream",
     "text": [
      "The r-squared is: 0.5786309576392166\n"
     ]
    },
    {
     "data": {
      "image/png": "[encoded data removed]",
      "text/plain": [
       "<Figure size 432x288 with 1 Axes>"
      ]
     },
     "metadata": {
      "needs_background": "light"
     },
     "output_type": "display_data"
    }
   ],
   "source": [
    "city_regress(north_df, 'Temperature (F)')"
   ]
  },
  {
   "cell_type": "markdown",
   "metadata": {},
   "source": [
    "###  Southern Hemisphere - Max Temp vs. Latitude Linear Regression"
   ]
  },
  {
   "cell_type": "code",
   "execution_count": 18,
   "metadata": {},
   "outputs": [
    {
     "name": "stdout",
     "output_type": "stream",
     "text": [
      "The r-squared is: 0.5423474442551816\n"
     ]
    },
    {
     "data": {
      "image/png": "[encoded data removed]",
      "text/plain": [
       "<Figure size 432x288 with 1 Axes>"
      ]
     },
     "metadata": {
      "needs_background": "light"
     },
     "output_type": "display_data"
    }
   ],
   "source": [
    "city_regress(south_df, 'Temperature (F)')"
   ]
  },
  {
   "cell_type": "markdown",
   "metadata": {},
   "source": [
    "###  Northern Hemisphere - Humidity (%) vs. Latitude Linear Regression"
   ]
  },
  {
   "cell_type": "code",
   "execution_count": 19,
   "metadata": {},
   "outputs": [
    {
     "name": "stdout",
     "output_type": "stream",
     "text": [
      "The r-squared is: 0.0010752884959320203\n"
     ]
    },
    {
     "data": {
      "image/png": "[encoded data removed]",
      "text/plain": [
       "<Figure size 432x288 with 1 Axes>"
      ]
     },
     "metadata": {
      "needs_background": "light"
     },
     "output_type": "display_data"
    }
   ],
   "source": [
    "city_regress(north_df, 'Humidity (%)')"
   ]
  },
  {
   "cell_type": "markdown",
   "metadata": {},
   "source": [
    "###  Southern Hemisphere - Humidity (%) vs. Latitude Linear Regression"
   ]
  },
  {
   "cell_type": "code",
   "execution_count": 20,
   "metadata": {},
   "outputs": [
    {
     "name": "stdout",
     "output_type": "stream",
     "text": [
      "The r-squared is: 0.0158422263461672\n"
     ]
    },
    {
     "data": {
      "image/png": "[encoded data removed]",
      "text/plain": [
       "<Figure size 432x288 with 1 Axes>"
      ]
     },
     "metadata": {
      "needs_background": "light"
     },
     "output_type": "display_data"
    }
   ],
   "source": [
    "city_regress(south_df, 'Humidity (%)')"
   ]
  },
  {
   "cell_type": "markdown",
   "metadata": {},
   "source": [
    "###  Northern Hemisphere - Cloudiness (%) vs. Latitude Linear Regression"
   ]
  },
  {
   "cell_type": "code",
   "execution_count": 21,
   "metadata": {},
   "outputs": [
    {
     "name": "stdout",
     "output_type": "stream",
     "text": [
      "The r-squared is: 0.0016665510896106594\n"
     ]
    },
    {
     "data": {
      "image/png": "[encoded data removed]",
      "text/plain": [
       "<Figure size 432x288 with 1 Axes>"
      ]
     },
     "metadata": {
      "needs_background": "light"
     },
     "output_type": "display_data"
    }
   ],
   "source": [
    "city_regress(north_df, 'Cloudiness (%)')"
   ]
  },
  {
   "cell_type": "markdown",
   "metadata": {},
   "source": [
    "###  Southern Hemisphere - Cloudiness (%) vs. Latitude Linear Regression"
   ]
  },
  {
   "cell_type": "code",
   "execution_count": 22,
   "metadata": {},
   "outputs": [
    {
     "name": "stdout",
     "output_type": "stream",
     "text": [
      "The r-squared is: 0.02123595088090997\n"
     ]
    },
    {
     "data": {
      "image/png": "[encoded data removed]",
      "text/plain": [
       "<Figure size 432x288 with 1 Axes>"
      ]
     },
     "metadata": {
      "needs_background": "light"
     },
     "output_type": "display_data"
    }
   ],
   "source": [
    "city_regress(south_df, 'Cloudiness (%)')"
   ]
  },
  {
   "cell_type": "markdown",
   "metadata": {},
   "source": [
    "###  Northern Hemisphere - Wind Speed (mph) vs. Latitude Linear Regression"
   ]
  },
  {
   "cell_type": "code",
   "execution_count": 23,
   "metadata": {},
   "outputs": [
    {
     "name": "stdout",
     "output_type": "stream",
     "text": [
      "The r-squared is: 0.009195396789278788\n"
     ]
    },
    {
     "data": {
      "image/png": "[encoded data removed]",
      "text/plain": [
       "<Figure size 432x288 with 1 Axes>"
      ]
     },
     "metadata": {
      "needs_background": "light"
     },
     "output_type": "display_data"
    }
   ],
   "source": [
    "city_regress(north_df, 'Wind Speed (mph)')"
   ]
  },
  {
   "cell_type": "markdown",
   "metadata": {},
   "source": [
    "###  Southern Hemisphere - Wind Speed (mph) vs. Latitude Linear Regression"
   ]
  },
  {
   "cell_type": "code",
   "execution_count": 24,
   "metadata": {},
   "outputs": [
    {
     "name": "stdout",
     "output_type": "stream",
     "text": [
      "The r-squared is: 0.03730835138947564\n"
     ]
    },
    {
     "data": {
      "image/png": "[encoded data removed]",
      "text/plain": [
       "<Figure size 432x288 with 1 Axes>"
      ]
     },
     "metadata": {
      "needs_background": "light"
     },
     "output_type": "display_data"
    }
   ],
   "source": [
    "city_regress(south_df, 'Wind Speed (mph)')"
   ]
  },
  {
   "cell_type": "code",
   "execution_count": null,
   "metadata": {},
   "outputs": [],
   "source": []
  }
 ],
 "metadata": {
  "anaconda-cloud": {},
  "kernel_info": {
   "name": "python3"
  },
  "kernelspec": {
   "display_name": "Python 3",
   "language": "python",
   "name": "python3"
  },
  "language_info": {
   "codemirror_mode": {
    "name": "ipython",
    "version": 3
   },
   "file_extension": ".py",
   "mimetype": "text/x-python",
   "name": "python",
   "nbconvert_exporter": "python",
   "pygments_lexer": "ipython3",
   "version": "3.8.5"
  },
  "latex_envs": {
   "LaTeX_envs_menu_present": true,
   "autoclose": false,
   "autocomplete": true,
   "bibliofile": "biblio.bib",
   "cite_by": "apalike",
   "current_citInitial": 1,
   "eqLabelWithNumbers": true,
   "eqNumInitial": 1,
   "hotkeys": {
    "equation": "Ctrl-E",
    "itemize": "Ctrl-I"
   },
   "labels_anchors": false,
   "latex_user_defs": false,
   "report_style_numbering": false,
   "user_envs_cfg": false
  },
  "nteract": {
   "version": "0.12.3"
  }
 },
 "nbformat": 4,
 "nbformat_minor": 2
}

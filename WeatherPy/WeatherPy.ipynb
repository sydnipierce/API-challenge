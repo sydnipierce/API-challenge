{
 "cells": [
  {
   "cell_type": "markdown",
   "metadata": {},
   "source": [
    "# WeatherPy\n",
    "----\n",
    "\n",
    "#### Note\n",
    "* Instructions have been included for each segment. You do not have to follow them exactly, but they are included to help you think through the steps."
   ]
  },
  {
   "cell_type": "code",
   "execution_count": 1,
   "metadata": {
    "scrolled": true
   },
   "outputs": [],
   "source": [
    "# Dependencies and Setup\n",
    "import matplotlib.pyplot as plt\n",
    "import pandas as pd\n",
    "import numpy as np\n",
    "import requests\n",
    "import time\n",
    "import os\n",
    "import json\n",
    "from scipy.stats import linregress\n",
    "\n",
    "# Import API key\n",
    "from api_keys import weather_api_key\n",
    "\n",
    "# Incorporated citipy to determine city based on latitude and longitude\n",
    "from citipy import citipy\n",
    "\n",
    "# Output File (CSV)\n",
    "output_data_file = os.path.join(\"Output Data\", \"cities.csv\")\n",
    "\n",
    "# Range of latitudes and longitudes\n",
    "lat_range = (-90, 90)\n",
    "lng_range = (-180, 180)"
   ]
  },
  {
   "cell_type": "markdown",
   "metadata": {},
   "source": [
    "## Generate Data"
   ]
  },
  {
   "cell_type": "markdown",
   "metadata": {},
   "source": [
    "### Generate Random Cities"
   ]
  },
  {
   "cell_type": "code",
   "execution_count": 2,
   "metadata": {},
   "outputs": [
    {
     "data": {
      "text/plain": [
       "637"
      ]
     },
     "execution_count": 2,
     "metadata": {},
     "output_type": "execute_result"
    }
   ],
   "source": [
    "# List for holding lat_lngs and cities\n",
    "lat_lngs = []\n",
    "cities = []\n",
    "\n",
    "# Create a set of 1500 random lat and lng combinations\n",
    "lats = np.random.uniform(lat_range[0], lat_range[1], size=1500)\n",
    "lngs = np.random.uniform(lng_range[0], lng_range[1], size=1500)\n",
    "lat_lngs = zip(lats, lngs)\n",
    "\n",
    "# Identify nearest city for each lat, lng combination\n",
    "for lat_lng in lat_lngs:\n",
    "    city = citipy.nearest_city(lat_lng[0], lat_lng[1]).city_name\n",
    "    \n",
    "    # If the city is unique, then add it to our cities list\n",
    "    if city not in cities:\n",
    "        cities.append(city)\n",
    "\n",
    "# Print the city count to confirm sufficient count\n",
    "len(cities)"
   ]
  },
  {
   "cell_type": "markdown",
   "metadata": {},
   "source": [
    "### Perform API Calls\n",
    "* Perform a weather check on each city using a series of successive API calls.\n",
    "* Include a print log of each city as it's being processed (with the city number and city name).\n"
   ]
  },
  {
   "cell_type": "code",
   "execution_count": 3,
   "metadata": {},
   "outputs": [
    {
     "data": {
      "text/plain": [
       "{'coord': {'lon': -9.1333, 'lat': 38.7167},\n",
       " 'weather': [{'id': 800,\n",
       "   'main': 'Clear',\n",
       "   'description': 'clear sky',\n",
       "   'icon': '01n'}],\n",
       " 'base': 'stations',\n",
       " 'main': {'temp': 287.99,\n",
       "  'feels_like': 287.54,\n",
       "  'temp_min': 286.6,\n",
       "  'temp_max': 288.82,\n",
       "  'pressure': 1021,\n",
       "  'humidity': 77},\n",
       " 'visibility': 10000,\n",
       " 'wind': {'speed': 6.17, 'deg': 320},\n",
       " 'clouds': {'all': 0},\n",
       " 'dt': 1622858817,\n",
       " 'sys': {'type': 1,\n",
       "  'id': 6901,\n",
       "  'country': 'PT',\n",
       "  'sunrise': 1622869947,\n",
       "  'sunset': 1622923078},\n",
       " 'timezone': 3600,\n",
       " 'id': 2267057,\n",
       " 'name': 'Lisbon',\n",
       " 'cod': 200}"
      ]
     },
     "execution_count": 3,
     "metadata": {},
     "output_type": "execute_result"
    }
   ],
   "source": [
    "# Run a test call to view JSON structure\n",
    "url = \"http://api.openweathermap.org/data/2.5/weather?\"\n",
    "town = \"Lisbon\"\n",
    "query_url = f\"{url}q={town}&appid={weather_api_key}\"\n",
    "response = requests.get(query_url).json()\n",
    "response"
   ]
  },
  {
   "cell_type": "code",
   "execution_count": 4,
   "metadata": {
    "scrolled": true
   },
   "outputs": [
    {
     "name": "stdout",
     "output_type": "stream",
     "text": [
      "Camocim, ID 3403687 has been located.\n",
      "Ilulissat, ID 3423146 has been located.\n",
      "Atar, ID 2381334 has been located.\n",
      "Castro, ID 3466704 has been located.\n",
      "Guane, ID 3557758 has been located.\n",
      "Cape Town, ID 3369157 has been located.\n",
      "Oktyabr'skiy, ID 515879 has been located.\n",
      "Guerrero Negro, ID 4021858 has been located.\n",
      "Sorong, ID 1626542 has been located.\n",
      "East London, ID 1006984 has been located.\n",
      "Ilhabela, ID 3461425 has been located.\n",
      "Qaanaaq, ID 3831208 has been located.\n",
      "Eyemouth, ID 2649784 has been located.\n",
      "Dikson, ID 1507390 has been located.\n",
      "Lebu, ID 3883457 has been located.\n",
      "Izazi, ID 158825 has been located.\n",
      "Topolobampo, ID 3981345 has been located.\n",
      "Provost, ID 6113828 has been located.\n",
      "Dauriya, ID 2025099 has been located.\n",
      "Pevek, ID 2122090 has been located.\n",
      "Aljezur, ID 2271968 has been located.\n",
      "Thompson, ID 6165406 has been located.\n",
      "Kabale, ID 233070 has been located.\n",
      "Mataura, ID 6201424 has been located.\n",
      "New Norfolk, ID 2155415 has been located.\n",
      "İslahiye, ID 311104 has been located.\n",
      "Ushuaia, ID 3833367 has been located.\n",
      "Corn Island, ID 3620266 has been located.\n",
      "Busselton, ID 2075265 has been located.\n",
      "Tasiilaq, ID 3424607 has been located.\n",
      "Atuona, ID 4020109 has been located.\n",
      "Petropavlovsk-Kamchatskiy, ID 2122104 has been located.\n",
      "Severomuysk, ID 2016907 has been located.\n",
      "Okhotsk, ID 2122605 has been located.\n",
      "Tuktoyaktuk, ID 6170031 has been located.\n",
      "Bluff, ID 2206939 has been located.\n",
      "Padang, ID 1633419 has been located.\n",
      "George Town, ID 1735106 has been located.\n",
      "Butaritari, ID 2110227 has been located.\n",
      "Rikitea, ID 4030556 has been located.\n",
      "Barrow, ID 5880054 has been located.\n",
      "Hermanus, ID 3366880 has been located.\n",
      "Ancud, ID 3899695 has been located.\n",
      "Pontian Kecil, ID 1732711 has been located.\n",
      "Krasnosel'kup, ID 1502073 has been located.\n",
      "Kenora, ID 5991056 has been located.\n",
      "Acarí, ID 3948613 has been located.\n",
      "Clyde River, ID 5924351 has been located.\n",
      "Arraial do Cabo, ID 3471451 has been located.\n",
      "Umm Kaddadah, ID 364933 has been located.\n",
      "Port Alfred, ID 964432 has been located.\n",
      "Hastings, ID 2647356 has been located.\n",
      "Fairbanks, ID 5861897 has been located.\n",
      "Coro, ID 3645213 has been located.\n",
      "Bethel, ID 5282297 has been located.\n",
      "Nālūt, ID 2214432 has been located.\n",
      "Tupiza, ID 3902202 has been located.\n",
      "Araouane, ID 2460954 has been located.\n",
      "Tepalcatepec, ID 3982007 has been located.\n",
      "Hilo, ID 5855927 has been located.\n",
      "Punta Arenas, ID 3874787 has been located.\n",
      "Hobart, ID 2163355 has been located.\n",
      "Vestmannaeyjar, ID 3412093 has been located.\n",
      "Pangody, ID 1495626 has been located.\n",
      "Cabadiangan, ID 1722028 has been located.\n",
      "Fortuna, ID 5563839 has been located.\n",
      "Grand Gaube, ID 934479 has been located.\n",
      "Yellowknife, ID 6185377 has been located.\n",
      "Beruwala, ID 1249931 has been located.\n",
      "Saldanha, ID 3361934 has been located.\n",
      "Rawson, ID 3839307 has been located.\n",
      "Albany, ID 5106841 has been located.\n",
      "Honiara, ID 2108502 has been located.\n",
      "Puerto Ayora, ID 3652764 has been located.\n",
      "Olafsvik, ID 3414079 has been located.\n",
      "Taoudenni, ID 2450173 has been located.\n",
      "La Ronge, ID 6050066 has been located.\n",
      "Río Gallegos, ID 3838859 has been located.\n",
      "Coxquihui, ID 3530144 has been located.\n",
      "Port Elizabeth, ID 964420 has been located.\n",
      "Torbay, ID 6167817 has been located.\n",
      "Kiryat Gat, ID 293842 has been located.\n",
      "Bagdarin, ID 2027244 has been located.\n",
      "Trincomalee, ID 1226260 has been located.\n",
      "Emba, ID 609924 has been located.\n",
      "Champerico, ID 3598787 has been located.\n",
      "Avarua, ID 4035715 has been located.\n",
      "Ormara, ID 1168700 has been located.\n",
      "Khatanga, ID 2022572 has been located.\n",
      "Burnie, ID 2173125 has been located.\n",
      "Mercedes, ID 3430708 has been located.\n",
      "Vila Velha, ID 3445026 has been located.\n",
      "Henties Bay, ID 3356832 has been located.\n",
      "Angoche, ID 1052944 has been located.\n",
      "Pauini, ID 3662927 has been located.\n",
      "Sept-Îles, ID 6144312 has been located.\n",
      "Bandar-e Lengeh, ID 141665 has been located.\n",
      "Saint George, ID 5546220 has been located.\n",
      "Altamont, ID 5711149 has been located.\n",
      "Linguère, ID 2249281 has been located.\n",
      "Kaitangata, ID 2208248 has been located.\n",
      "Fare, ID 4034496 has been located.\n",
      "Aklavik, ID 5882953 has been located.\n",
      "Ponta Delgada, ID 3372783 has been located.\n",
      "Pyskowice, ID 3087628 has been located.\n",
      "Santa Cruz, ID 2561668 has been located.\n",
      "Jamestown, ID 5122534 has been located.\n",
      "Ixtapa, ID 4004293 has been located.\n",
      "Narsaq, ID 3421719 has been located.\n",
      "Ambilobe, ID 1082243 has been located.\n",
      "Laguna, ID 5364271 has been located.\n",
      "El Batey, ID 3492627 has been located.\n",
      "Bumba, ID 217745 has been located.\n",
      "Hithadhoo, ID 1282256 has been located.\n",
      "Pacific Grove, ID 5380437 has been located.\n",
      "Saint-Augustin, ID 6137462 has been located.\n",
      "Malakal, ID 370737 has been located.\n",
      "Mafeteng, ID 932614 has been located.\n",
      "Carnarvon, ID 2074865 has been located.\n",
      "Juneau, ID 5554072 has been located.\n",
      "Parkovyy, ID 512533 has been located.\n",
      "Teya, ID 1489656 has been located.\n",
      "Dwārka, ID 1272140 has been located.\n",
      "Longonjo, ID 3347853 has been located.\n",
      "Esperance, ID 2071860 has been located.\n",
      "Acaraú, ID 3408368 has been located.\n",
      "Lianzhou, ID 1803841 has been located.\n",
      "Dudinka, ID 1507116 has been located.\n",
      "Chepareria, ID 199604 has been located.\n",
      "Warrington, ID 2634739 has been located.\n",
      "Manzanillo, ID 3547867 has been located.\n",
      "Stokmarknes, ID 3136690 has been located.\n",
      "Vila Franca do Campo, ID 3372472 has been located.\n",
      "Kapaa, ID 5848280 has been located.\n",
      "Jurm, ID 1139085 has been located.\n",
      "Pastavy, ID 623760 has been located.\n",
      "Tura, ID 1254046 has been located.\n",
      "Vostok, ID 2013279 has been located.\n",
      "Mahébourg, ID 934322 has been located.\n",
      "Port Lincoln, ID 2063036 has been located.\n",
      "Anadyr, ID 2127202 has been located.\n",
      "Marawi, ID 1701054 has been located.\n",
      "Coquimbo, ID 3893629 has been located.\n",
      "Leshukonskoye, ID 535839 has been located.\n",
      "Boysun, ID 1217734 has been located.\n",
      "Baláo, ID 3660387 has been located.\n",
      "Nikolayevsk-on-Amur, ID 2122850 has been located.\n",
      "Kanniyākumāri, ID 1268008 has been located.\n",
      "Merauke, ID 2082539 has been located.\n",
      "Bredasdorp, ID 1015776 has been located.\n",
      "Kruisfontein, ID 986717 has been located.\n",
      "General Roca, ID 3855065 has been located.\n",
      "Amahai, ID 1651591 has been located.\n",
      "Smirnykh, ID 2121126 has been located.\n",
      "St. George's, ID 3579925 has been located.\n",
      "Tomatlán, ID 3981391 has been located.\n",
      "Bredy, ID 1508811 has been located.\n",
      "Vaini, ID 4032243 has been located.\n",
      "Shunyi, ID 2034754 has been located.\n",
      "Ayorou, ID 2447416 has been located.\n",
      "Kiruna, ID 605155 has been located.\n",
      "Hailar, ID 2037078 has been located.\n",
      "Makakilo City, ID 5850554 has been located.\n",
      "Necochea, ID 3430443 has been located.\n",
      "Sabha, ID 2212775 has been located.\n",
      "Jaciara, ID 3460355 has been located.\n",
      "Hong Kong, ID 1819729 has been located.\n",
      "Margate, ID 2643044 has been located.\n",
      "Chui, ID 3443061 has been located.\n",
      "Pomabamba, ID 3693468 has been located.\n",
      "Camacha, ID 2270385 has been located.\n",
      "Codrington, ID 2171099 has been located.\n",
      "Villamontes, ID 3901547 has been located.\n",
      "Solnechnyy, ID 2016307 has been located.\n",
      "Byron Bay, ID 2172880 has been located.\n",
      "Mlonggo, ID 1635164 has been located.\n",
      "Agüimes, ID 2522325 has been located.\n",
      "Bambous Virieux, ID 1106677 has been located.\n",
      "Saint-Philippe, ID 935215 has been located.\n",
      "Omagh, ID 2640967 has been located.\n",
      "Severo-Kuril'sk, ID 2121385 has been located.\n",
      "Lüderitz, ID 3355672 has been located.\n",
      "Channel-Port aux Basques, ID 5919815 has been located.\n",
      "Hofn, ID 2630299 has been located.\n",
      "Ribeira Grande, ID 3372707 has been located.\n",
      "Shawnee, ID 4279253 has been located.\n",
      "Matias Barbosa, ID 3457479 has been located.\n",
      "Talnakh, ID 1490256 has been located.\n",
      "Ulaanbaatar, ID 2028462 has been located.\n",
      "Airai, ID 1651810 has been located.\n",
      "Euclides da Cunha, ID 3463698 has been located.\n",
      "Upernavik, ID 3418910 has been located.\n",
      "Los Llanos de Aridane, ID 2514651 has been located.\n",
      "Bowen, ID 2174444 has been located.\n",
      "Whitehorse, ID 6180550 has been located.\n",
      "Miranda, ID 3674702 has been located.\n",
      "Bismarck, ID 5688025 has been located.\n",
      "Pisco, ID 3932145 has been located.\n",
      "Sioux Lookout, ID 6148373 has been located.\n",
      "Dakar, ID 2253354 has been located.\n",
      "Ternate, ID 1624041 has been located.\n",
      "Damietta, ID 358048 has been located.\n",
      "Tarbagatay, ID 2015545 has been located.\n",
      "Iqaluit, ID 5983720 has been located.\n",
      "Kiunga, ID 2093846 has been located.\n",
      "Orotukan, ID 2122414 has been located.\n",
      "Lavrentiya, ID 4031637 has been located.\n",
      "Bengkulu, ID 1649150 has been located.\n"
     ]
    },
    {
     "name": "stdout",
     "output_type": "stream",
     "text": [
      "Kiama, ID 2161515 has been located.\n",
      "Saint Paul Harbor, ID 5866583 has been located.\n",
      "Manaure, ID 3675504 has been located.\n",
      "Maceió, ID 3395981 has been located.\n",
      "Alugan, ID 1731248 has been located.\n",
      "Morehead, ID 4301317 has been located.\n",
      "San Vicente, ID 3428068 has been located.\n",
      "Tessalit, ID 2449893 has been located.\n",
      "Masty, ID 625367 has been located.\n",
      "Nanortalik, ID 3421765 has been located.\n",
      "Phimai, ID 1607716 has been located.\n",
      "Dicabisagan, ID 1715015 has been located.\n",
      "Kuytun, ID 2021093 has been located.\n",
      "Hokitika, ID 2206894 has been located.\n",
      "Egvekinot, ID 4031742 has been located.\n",
      "Kismayo, ID 55671 has been located.\n",
      "Pouembout, ID 2138592 has been located.\n",
      "San Cristobal, ID 3628473 has been located.\n",
      "Nikolskoye, ID 546105 has been located.\n",
      "Katsuura, ID 2112309 has been located.\n",
      "Grand-Santi, ID 3381538 has been located.\n",
      "Tiksi, ID 2015306 has been located.\n",
      "Carballo, ID 3126369 has been located.\n",
      "Chiang Klang, ID 1611195 has been located.\n",
      "Khandyga, ID 2022773 has been located.\n",
      "Grindavik, ID 3416888 has been located.\n",
      "Balkhash, ID 1525798 has been located.\n",
      "Natal'insk, ID 523292 has been located.\n",
      "Aksu, ID 1529660 has been located.\n",
      "Mineros, ID 3910343 has been located.\n",
      "Zapolyarnyy, ID 464790 has been located.\n",
      "Bakel, ID 2252606 has been located.\n",
      "Mbandaka, ID 2312895 has been located.\n",
      "Norman Wells, ID 6089245 has been located.\n",
      "Charters Towers, ID 2171722 has been located.\n",
      "Zhangye, ID 1785036 has been located.\n",
      "Fort Nelson, ID 5955902 has been located.\n",
      "Davila, ID 1715335 has been located.\n",
      "Teacapan, ID 3982287 has been located.\n",
      "Hobyo, ID 57000 has been located.\n",
      "Helsinge, ID 2620476 has been located.\n",
      "Hambantota, ID 1244926 has been located.\n",
      "Lagoa, ID 3372964 has been located.\n",
      "Aste, ID 6539916 has been located.\n",
      "Dunedin, ID 2191562 has been located.\n",
      "Hualmay, ID 3939761 has been located.\n",
      "Maniitsoq, ID 3421982 has been located.\n",
      "Soure, ID 3387204 has been located.\n",
      "Tumpat, ID 1736356 has been located.\n",
      "Rudnichnyy, ID 500695 has been located.\n",
      "Evensk, ID 2125693 has been located.\n",
      "Talcahuano, ID 3870282 has been located.\n",
      "Beyneu, ID 610298 has been located.\n",
      "Boueni, ID 1090467 has been located.\n",
      "Beloha, ID 1067565 has been located.\n",
      "Roald, ID 3141667 has been located.\n",
      "Saskylakh, ID 2017155 has been located.\n",
      "Chokurdakh, ID 2126123 has been located.\n",
      "Torbat-e Jām, ID 1159362 has been located.\n",
      "Qaqortoq, ID 3420846 has been located.\n",
      "Port Hardy, ID 6111862 has been located.\n",
      "Buala, ID 2109528 has been located.\n",
      "Provideniya, ID 4031574 has been located.\n",
      "Kaeo, ID 2189343 has been located.\n",
      "Nyurba, ID 2018735 has been located.\n",
      "Ullapool, ID 2635199 has been located.\n",
      "Zhurivka, ID 687277 has been located.\n",
      "Luba, ID 2309528 has been located.\n",
      "Kourou, ID 3381303 has been located.\n",
      "Makat, ID 608872 has been located.\n",
      "Berleşti, ID 684989 has been located.\n",
      "Mar del Plata, ID 3430863 has been located.\n",
      "Zalţan, ID 2208655 has been located.\n",
      "Camaná, ID 3945985 has been located.\n",
      "Te Anau, ID 2181625 has been located.\n",
      "Umeå, ID 602150 has been located.\n",
      "Bāfq, ID 142255 has been located.\n",
      "Paamiut, ID 3421193 has been located.\n",
      "Bara, ID 2347758 has been located.\n",
      "Merrimack, ID 5089478 has been located.\n",
      "Baykit, ID 1510689 has been located.\n",
      "Mackay, ID 2159220 has been located.\n",
      "Alofi, ID 4036284 has been located.\n",
      "Tremedal, ID 3446198 has been located.\n",
      "Nhulunbuy, ID 2064735 has been located.\n",
      "Quatre Cocos, ID 1106643 has been located.\n",
      "Nome, ID 5870133 has been located.\n",
      "Sujiatun, ID 2034638 has been located.\n",
      "Paungde, ID 1300969 has been located.\n",
      "Half Moon Bay, ID 5354943 has been located.\n",
      "Pitimbu, ID 3391889 has been located.\n",
      "Podosinovets, ID 508068 has been located.\n",
      "Neuquén, ID 3843123 has been located.\n",
      "Ponta do Sol, ID 2264557 has been located.\n",
      "Shingū, ID 1847947 has been located.\n",
      "Alice Springs, ID 2077895 has been located.\n",
      "Novy Urengoy, ID 1496511 has been located.\n",
      "Piranhas, ID 3453586 has been located.\n",
      "Inhambane, ID 1045114 has been located.\n",
      "Russell, ID 4047434 has been located.\n",
      "KwaDukuza, ID 952734 has been located.\n",
      "Changtu, ID 2038139 has been located.\n",
      "Neftçala, ID 147425 has been located.\n",
      "Sancti Spíritus, ID 3540667 has been located.\n",
      "Hay River, ID 5972762 has been located.\n",
      "Kalmunai, ID 1242110 has been located.\n",
      "Ahipara, ID 2194098 has been located.\n",
      "Pochutla, ID 3517970 has been located.\n",
      "Coracora, ID 3942259 has been located.\n",
      "Rio de Janeiro, ID 3451190 has been located.\n",
      "Yar-Sale, ID 1486321 has been located.\n",
      "Bessonovka, ID 576663 has been located.\n",
      "Samarai, ID 2132606 has been located.\n",
      "Yulara, ID 6355222 has been located.\n",
      "Cabo San Lucas, ID 3985710 has been located.\n",
      "Bogale, ID 1328121 has been located.\n",
      "Geraldton, ID 2070998 has been located.\n",
      "Atambua, ID 1651103 has been located.\n",
      "Shahr-e Bābak, ID 115781 has been located.\n",
      "Cidreira, ID 3466165 has been located.\n",
      "Pleasanton, ID 5383777 has been located.\n",
      "Cheremkhovo, ID 2025527 has been located.\n",
      "Sayyan, ID 70979 has been located.\n",
      "Cherskiy, ID 2126199 has been located.\n",
      "Rio Grande, ID 3451138 has been located.\n",
      "Sanford, ID 4172086 has been located.\n",
      "Oodweyne, ID 53372 has been located.\n",
      "Rapid Valley, ID 5768244 has been located.\n",
      "Maningrida, ID 2067089 has been located.\n",
      "Sainte-Marie, ID 935255 has been located.\n",
      "Ishigaki, ID 1861416 has been located.\n",
      "Dom Pedrito, ID 3464547 has been located.\n",
      "Ispravnaya, ID 555801 has been located.\n",
      "Beringovskiy, ID 2126710 has been located.\n",
      "Khombole, ID 2249901 has been located.\n",
      "Richards Bay, ID 962367 has been located.\n",
      "Cananea, ID 4015700 has been located.\n",
      "Sitka, ID 5557293 has been located.\n",
      "Pālang, ID 1191368 has been located.\n",
      "Kutum, ID 371745 has been located.\n",
      "Wuwei, ID 1803936 has been located.\n",
      "Mossamedes, ID 3347019 has been located.\n",
      "Lang Son, ID 1576633 has been located.\n",
      "Balakhta, ID 1510998 has been located.\n",
      "Naze, ID 1855540 has been located.\n",
      "Poli, ID 150689 has been located.\n",
      "Jardim, ID 3460087 has been located.\n",
      "Cayenne, ID 3382160 has been located.\n",
      "Lengshuijiang, ID 1804169 has been located.\n",
      "Noumea, ID 2139521 has been located.\n",
      "Yangi Marg`ilon, ID 1513491 has been located.\n",
      "Barão de Melgaço, ID 3470871 has been located.\n",
      "Gisborne, ID 2206854 has been located.\n",
      "Tuy Hoa, ID 1563281 has been located.\n",
      "North Bend, ID 5742974 has been located.\n",
      "Stornoway, ID 2636790 has been located.\n",
      "Manturovo, ID 529505 has been located.\n",
      "Jasper, ID 4392354 has been located.\n",
      "Mount Gambier, ID 2156643 has been located.\n",
      "Wittlich, ID 2807240 has been located.\n",
      "Ulaangom, ID 1515029 has been located.\n",
      "Thinadhoo, ID 1337610 has been located.\n",
      "Saint-Pierre, ID 935214 has been located.\n",
      "Flinders, ID 6255012 has been located.\n",
      "São João da Barra, ID 3448903 has been located.\n",
      "Khovd, ID 1516048 has been located.\n",
      "Anjiang, ID 1818051 has been located.\n",
      "San Patricio, ID 4726521 has been located.\n",
      "Palana, ID 2122262 has been located.\n",
      "Nantucket, ID 4944903 has been located.\n",
      "Kahului, ID 5847411 has been located.\n",
      "Wodonga, ID 2143285 has been located.\n",
      "Kawai, ID 1859716 has been located.\n",
      "Den Helder, ID 2757220 has been located.\n",
      "Bulawayo, ID 894701 has been located.\n",
      "Monte Redondo, ID 2265841 has been located.\n",
      "Mount Isa, ID 2065594 has been located.\n",
      "Shatin, ID 174776 has been located.\n",
      "Shubarkuduk, ID 608271 has been located.\n",
      "Barzas, ID 1510817 has been located.\n",
      "Kirakira, ID 2178753 has been located.\n",
      "Faanui, ID 4034551 has been located.\n",
      "Loandjili, ID 2258378 has been located.\n",
      "Semīrom, ID 116406 has been located.\n",
      "Opuwo, ID 3354077 has been located.\n",
      "Longyearbyen, ID 2729907 has been located.\n",
      "Straumen, ID 3135728 has been located.\n",
      "Port Pirie, ID 2063030 has been located.\n",
      "Siderno, ID 6540819 has been located.\n",
      "The Pas, ID 6164499 has been located.\n",
      "Manokwari, ID 1636308 has been located.\n",
      "Souillac, ID 933995 has been located.\n",
      "Qorveh, ID 119161 has been located.\n",
      "Bethanien, ID 3358416 has been located.\n",
      "Umluj, ID 100926 has been located.\n",
      "Muzhi, ID 1498161 has been located.\n",
      "Boa Vista, ID 3664980 has been located.\n",
      "Port Moresby, ID 2088122 has been located.\n",
      "Norden, ID 2862118 has been located.\n",
      "Larsnes, ID 3148133 has been located.\n",
      "Laas, ID 3175096 has been located.\n",
      "Pamyat' Parizhskoy Kommuny, ID 512947 has been located.\n",
      "Dingle, ID 1714733 has been located.\n",
      "Pell City, ID 4082589 has been located.\n",
      "Nioro, ID 2412408 has been located.\n",
      "Marystown, ID 6067472 has been located.\n",
      "Curuçá, ID 3401188 has been located.\n",
      "Bingöl, ID 321082 has been located.\n",
      "Ocós, ID 3592086 has been located.\n",
      "Qandala, ID 53157 has been located.\n"
     ]
    },
    {
     "name": "stdout",
     "output_type": "stream",
     "text": [
      "Zabul Province, ID 1121143 has been located.\n",
      "Asmara, ID 343300 has been located.\n",
      "Mogadishu, ID 53654 has been located.\n",
      "Gamba, ID 2400547 has been located.\n",
      "Ambon City, ID 1651531 has been located.\n",
      "Valle Hermoso, ID 3514868 has been located.\n",
      "Douglas, ID 5067114 has been located.\n",
      "Ostrovnoy, ID 556268 has been located.\n",
      "Shelton, ID 4842898 has been located.\n",
      "Bela, ID 1276574 has been located.\n",
      "Skibbereen, ID 2961459 has been located.\n",
      "Port Blair, ID 1259385 has been located.\n",
      "Lookan, ID 1705597 has been located.\n",
      "Nortelândia, ID 3456248 has been located.\n",
      "Caborca, ID 3996893 has been located.\n",
      "Makkah al Mukarramah, ID 104515 has been located.\n",
      "Kostanay, ID 1519928 has been located.\n",
      "Tornio, ID 634093 has been located.\n",
      "Cleveland, ID 5150529 has been located.\n",
      "Morant Bay, ID 3489440 has been located.\n",
      "Kavieng, ID 2094342 has been located.\n",
      "Riohacha, ID 3670745 has been located.\n",
      "Morondava, ID 1058381 has been located.\n",
      "Buchanan, ID 2278158 has been located.\n",
      "Chimoio, ID 1049261 has been located.\n",
      "Beipiao, ID 2038342 has been located.\n",
      "Ati, ID 2436400 has been located.\n",
      "Andra, ID 1511646 has been located.\n",
      "Coahuayana Viejo, ID 4013679 has been located.\n",
      "Methóni, ID 257122 has been located.\n",
      "Gorontalo, ID 1643837 has been located.\n",
      "West Wendover, ID 5710035 has been located.\n",
      "Vardø, ID 777019 has been located.\n",
      "Vao, ID 2137773 has been located.\n",
      "Bétaré Oya, ID 2234339 has been located.\n",
      "Kapustin Yar, ID 552999 has been located.\n",
      "Huilong, ID 1806840 has been located.\n",
      "Tucano, ID 3445983 has been located.\n",
      "Salalah, ID 286621 has been located.\n",
      "Klaksvík, ID 2618795 has been located.\n",
      "Assiut, ID 359783 has been located.\n",
      "Lata, ID 2738381 has been located.\n",
      "Kununurra, ID 2068110 has been located.\n",
      "Sisophon, ID 1822207 has been located.\n",
      "Wanning, ID 1791779 has been located.\n",
      "Bonavista, ID 5905393 has been located.\n",
      "Farafenni, ID 2413515 has been located.\n",
      "Saýat, ID 1218436 has been located.\n",
      "Balagansk, ID 2027198 has been located.\n",
      "Gweta, ID 933734 has been located.\n",
      "Tabas, ID 113659 has been located.\n",
      "Rome, ID 5134295 has been located.\n",
      "Sokoni, ID 149812 has been located.\n",
      "Kharan, ID 1174062 has been located.\n",
      "Arlit, ID 2447513 has been located.\n",
      "Cochrane, ID 5924618 has been located.\n",
      "Angoulême, ID 3037598 has been located.\n",
      "Shām Churāsi, ID 1256676 has been located.\n",
      "Riyadh, ID 108410 has been located.\n",
      "Saint-François, ID 2980080 has been located.\n",
      "Berlevåg, ID 780687 has been located.\n",
      "Leh, ID 1264976 has been located.\n",
      "Bhānvad, ID 1276147 has been located.\n",
      "Barnaul, ID 1510853 has been located.\n",
      "Deputatsky, ID 2028164 has been located.\n",
      "Bathsheba, ID 3374083 has been located.\n",
      "Lorengau, ID 2092164 has been located.\n",
      "Carahue, ID 3896774 has been located.\n",
      "Aracati, ID 3407378 has been located.\n",
      "Sanghar, ID 1166164 has been located.\n",
      "Multan, ID 1169825 has been located.\n",
      "Maragogi, ID 3395458 has been located.\n",
      "Noshiro, ID 2128867 has been located.\n",
      "Avila, ID 3129138 has been located.\n",
      "Campbeltown, ID 2653915 has been located.\n",
      "Acapulco de Juárez, ID 3533462 has been located.\n",
      "Juxtlahuaca, ID 3530886 has been located.\n",
      "Christchurch, ID 2192362 has been located.\n",
      "Haines Junction, ID 5969025 has been located.\n",
      "Solapur, ID 1256436 has been located.\n",
      "Nova Varoš, ID 3194407 has been located.\n",
      "Linxia Chengguanzhen, ID 1803331 has been located.\n",
      "Sittwe, ID 1295765 has been located.\n",
      "Wanaka, ID 2184707 has been located.\n",
      "Luís Correia, ID 3396121 has been located.\n",
      "Isangel, ID 2136825 has been located.\n",
      "Marang, ID 1734715 has been located.\n",
      "Tveit, ID 3133663 has been located.\n",
      "Puerto Madryn, ID 3840092 has been located.\n",
      "Iskateley, ID 866062 has been located.\n",
      "Nara, ID 1855612 has been located.\n",
      "Lilongwe, ID 927967 has been located.\n",
      "Anloga, ID 2304548 has been located.\n",
      "Mt. Pleasant, ID 4588165 has been located.\n",
      "Batagay-Alyta, ID 2027042 has been located.\n",
      "Lahān, ID 1283161 has been located.\n",
      "Usinsk, ID 863061 has been located.\n",
      "Neepawa, ID 6086673 has been located.\n",
      "Onguday, ID 1496130 has been located.\n",
      "Chapais, ID 5919850 has been located.\n",
      "Sinnamary, ID 3380290 has been located.\n",
      "Kragerø, ID 3149412 has been located.\n",
      "Mkushi, ID 906221 has been located.\n",
      "Constitución, ID 3893726 has been located.\n",
      "Yerbogachën, ID 2012956 has been located.\n",
      "Cockburn Town, ID 3576994 has been located.\n",
      "Kisangani, ID 212730 has been located.\n",
      "Lyudinovo, ID 532459 has been located.\n",
      "Zaragoza, ID 3104324 has been located.\n",
      "Carutapera, ID 3402648 has been located.\n",
      "Sambava, ID 1056899 has been located.\n",
      "Banda Aceh, ID 1215502 has been located.\n",
      "Santiago, ID 3871336 has been located.\n",
      "Namatanai, ID 2090021 has been located.\n",
      "Bam, ID 141736 has been located.\n",
      "Robertsport, ID 2274275 has been located.\n",
      "Broome, ID 5110365 has been located.\n",
      "Allāpalli, ID 1278987 has been located.\n",
      "Ardakān, ID 143073 has been located.\n",
      "Tlaxco, ID 3515349 has been located.\n",
      "Miles City, ID 5666176 has been located.\n",
      "Borogontsy, ID 2026160 has been located.\n",
      "Luanda, ID 2240449 has been located.\n",
      "Abu Samrah, ID 172515 has been located.\n",
      "Qarqīn, ID 1129516 has been located.\n",
      "Lompoc, ID 5367788 has been located.\n",
      "Cariré, ID 3402893 has been located.\n",
      "Kargopol', ID 552465 has been located.\n",
      "Bako, ID 342856 has been located.\n",
      "Doha, ID 290030 has been located.\n",
      "Polovinnoye, ID 1494523 has been located.\n",
      "Kargil, ID 1267776 has been located.\n",
      "Eyl, ID 60019 has been located.\n",
      "Telšiai, ID 593926 has been located.\n",
      "Nova Viçosa, ID 3456102 has been located.\n",
      "Vidalia, ID 4228425 has been located.\n",
      "Lumphat, ID 1830377 has been located.\n",
      "Buenos Aires, ID 3435910 has been located.\n",
      "Nouadhibou, ID 2377457 has been located.\n",
      "Dawlatabad, ID 1142226 has been located.\n",
      "Arica, ID 3899361 has been located.\n",
      "Forquilhinha, ID 3463066 has been located.\n",
      "Yining, ID 1786538 has been located.\n",
      "Dzaoudzi, ID 921900 has been located.\n",
      "Distrikt Brokopondo, ID 3384481 has been located.\n",
      "Miasskoye, ID 1498887 has been located.\n",
      "Touros, ID 3386213 has been located.\n",
      "Poum, ID 2138555 has been located.\n",
      "Mindelo, ID 3374462 has been located.\n",
      "Bud, ID 4255151 has been located.\n",
      "Tourlaville, ID 2972270 has been located.\n",
      "Orël-Izumrud, ID 803494 has been located.\n",
      "Jalu, ID 86049 has been located.\n",
      "Iracoubo, ID 3381428 has been located.\n",
      "Humberto de Campos, ID 3398428 has been located.\n",
      "Sakhipur, ID 1189056 has been located.\n",
      "Takoradze, ID 2294915 has been located.\n",
      "Chibombo, ID 920233 has been located.\n",
      "Isiro, ID 215771 has been located.\n"
     ]
    }
   ],
   "source": [
    "# Basic API call URL\n",
    "url = \"http://api.openweathermap.org/data/2.5/weather?\"\n",
    "\n",
    "# Create empty lists to hold data from API calls\n",
    "call_city = []\n",
    "call_city_num = []\n",
    "lat = []\n",
    "long = []\n",
    "temp = []\n",
    "humid = []\n",
    "cloudy = []\n",
    "wind_sp = []\n",
    "\n",
    "# Perform API calls using random cities generated\n",
    "# Append data for each city to the relevant list\n",
    "for city in cities:\n",
    "    query_url = f\"{url}q={city}&appid={weather_api_key}\"\n",
    "    response = requests.get(query_url).json()\n",
    "    \n",
    "    try:\n",
    "        name = response['name']\n",
    "        id_num = response['id']\n",
    "        call_city.append(response['name'])\n",
    "        call_city_num.append(response['id'])\n",
    "        lat.append(response['coord']['lat'])\n",
    "        long.append(response['coord']['lon'])\n",
    "        temp.append(response['main']['temp'])\n",
    "        humid.append(response['main']['humidity'])\n",
    "        cloudy.append(response['clouds']['all'])\n",
    "        wind_sp.append(response['wind']['speed'])\n",
    "        print(f\"{name}, ID {id_num} has been located.\")\n",
    "    \n",
    "    except:\n",
    "        pass"
   ]
  },
  {
   "cell_type": "markdown",
   "metadata": {},
   "source": [
    "## Convert Raw Data to DataFrame\n",
    "* Export the city data into a .csv.\n",
    "* Display the DataFrame"
   ]
  },
  {
   "cell_type": "code",
   "execution_count": 5,
   "metadata": {},
   "outputs": [
    {
     "data": {
      "text/html": [
       "<div>\n",
       "<style scoped>\n",
       "    .dataframe tbody tr th:only-of-type {\n",
       "        vertical-align: middle;\n",
       "    }\n",
       "\n",
       "    .dataframe tbody tr th {\n",
       "        vertical-align: top;\n",
       "    }\n",
       "\n",
       "    .dataframe thead th {\n",
       "        text-align: right;\n",
       "    }\n",
       "</style>\n",
       "<table border=\"1\" class=\"dataframe\">\n",
       "  <thead>\n",
       "    <tr style=\"text-align: right;\">\n",
       "      <th></th>\n",
       "      <th>City</th>\n",
       "      <th>City ID</th>\n",
       "      <th>Latitude</th>\n",
       "      <th>Longitude</th>\n",
       "      <th>Temperature (k)</th>\n",
       "      <th>Humidity (%)</th>\n",
       "      <th>Cloudiness (%)</th>\n",
       "      <th>Wind Speed (m/sec)</th>\n",
       "    </tr>\n",
       "  </thead>\n",
       "  <tbody>\n",
       "    <tr>\n",
       "      <th>0</th>\n",
       "      <td>Camocim</td>\n",
       "      <td>3403687</td>\n",
       "      <td>-2.9022</td>\n",
       "      <td>-40.8411</td>\n",
       "      <td>297.30</td>\n",
       "      <td>85</td>\n",
       "      <td>3</td>\n",
       "      <td>4.32</td>\n",
       "    </tr>\n",
       "    <tr>\n",
       "      <th>1</th>\n",
       "      <td>Ilulissat</td>\n",
       "      <td>3423146</td>\n",
       "      <td>69.2167</td>\n",
       "      <td>-51.1000</td>\n",
       "      <td>284.16</td>\n",
       "      <td>37</td>\n",
       "      <td>4</td>\n",
       "      <td>9.26</td>\n",
       "    </tr>\n",
       "    <tr>\n",
       "      <th>2</th>\n",
       "      <td>Atar</td>\n",
       "      <td>2381334</td>\n",
       "      <td>20.5169</td>\n",
       "      <td>-13.0499</td>\n",
       "      <td>304.29</td>\n",
       "      <td>25</td>\n",
       "      <td>80</td>\n",
       "      <td>6.32</td>\n",
       "    </tr>\n",
       "    <tr>\n",
       "      <th>3</th>\n",
       "      <td>Castro</td>\n",
       "      <td>3466704</td>\n",
       "      <td>-24.7911</td>\n",
       "      <td>-50.0119</td>\n",
       "      <td>286.87</td>\n",
       "      <td>89</td>\n",
       "      <td>0</td>\n",
       "      <td>1.76</td>\n",
       "    </tr>\n",
       "    <tr>\n",
       "      <th>4</th>\n",
       "      <td>Guane</td>\n",
       "      <td>3557758</td>\n",
       "      <td>22.2025</td>\n",
       "      <td>-84.0875</td>\n",
       "      <td>298.47</td>\n",
       "      <td>85</td>\n",
       "      <td>68</td>\n",
       "      <td>0.95</td>\n",
       "    </tr>\n",
       "    <tr>\n",
       "      <th>...</th>\n",
       "      <td>...</td>\n",
       "      <td>...</td>\n",
       "      <td>...</td>\n",
       "      <td>...</td>\n",
       "      <td>...</td>\n",
       "      <td>...</td>\n",
       "      <td>...</td>\n",
       "      <td>...</td>\n",
       "    </tr>\n",
       "    <tr>\n",
       "      <th>572</th>\n",
       "      <td>Humberto de Campos</td>\n",
       "      <td>3398428</td>\n",
       "      <td>-2.5983</td>\n",
       "      <td>-43.4611</td>\n",
       "      <td>297.65</td>\n",
       "      <td>89</td>\n",
       "      <td>0</td>\n",
       "      <td>2.63</td>\n",
       "    </tr>\n",
       "    <tr>\n",
       "      <th>573</th>\n",
       "      <td>Sakhipur</td>\n",
       "      <td>1189056</td>\n",
       "      <td>24.3000</td>\n",
       "      <td>90.1833</td>\n",
       "      <td>299.08</td>\n",
       "      <td>72</td>\n",
       "      <td>20</td>\n",
       "      <td>4.56</td>\n",
       "    </tr>\n",
       "    <tr>\n",
       "      <th>574</th>\n",
       "      <td>Takoradze</td>\n",
       "      <td>2294915</td>\n",
       "      <td>4.8845</td>\n",
       "      <td>-1.7554</td>\n",
       "      <td>298.86</td>\n",
       "      <td>87</td>\n",
       "      <td>63</td>\n",
       "      <td>2.25</td>\n",
       "    </tr>\n",
       "    <tr>\n",
       "      <th>575</th>\n",
       "      <td>Chibombo</td>\n",
       "      <td>920233</td>\n",
       "      <td>-14.6569</td>\n",
       "      <td>28.0706</td>\n",
       "      <td>284.88</td>\n",
       "      <td>85</td>\n",
       "      <td>56</td>\n",
       "      <td>3.41</td>\n",
       "    </tr>\n",
       "    <tr>\n",
       "      <th>576</th>\n",
       "      <td>Isiro</td>\n",
       "      <td>215771</td>\n",
       "      <td>2.7739</td>\n",
       "      <td>27.6160</td>\n",
       "      <td>292.27</td>\n",
       "      <td>99</td>\n",
       "      <td>100</td>\n",
       "      <td>1.13</td>\n",
       "    </tr>\n",
       "  </tbody>\n",
       "</table>\n",
       "<p>577 rows × 8 columns</p>\n",
       "</div>"
      ],
      "text/plain": [
       "                   City  City ID  Latitude  Longitude  Temperature (k)  \\\n",
       "0               Camocim  3403687   -2.9022   -40.8411           297.30   \n",
       "1             Ilulissat  3423146   69.2167   -51.1000           284.16   \n",
       "2                  Atar  2381334   20.5169   -13.0499           304.29   \n",
       "3                Castro  3466704  -24.7911   -50.0119           286.87   \n",
       "4                 Guane  3557758   22.2025   -84.0875           298.47   \n",
       "..                  ...      ...       ...        ...              ...   \n",
       "572  Humberto de Campos  3398428   -2.5983   -43.4611           297.65   \n",
       "573            Sakhipur  1189056   24.3000    90.1833           299.08   \n",
       "574           Takoradze  2294915    4.8845    -1.7554           298.86   \n",
       "575            Chibombo   920233  -14.6569    28.0706           284.88   \n",
       "576               Isiro   215771    2.7739    27.6160           292.27   \n",
       "\n",
       "     Humidity (%)  Cloudiness (%)  Wind Speed (m/sec)  \n",
       "0              85               3                4.32  \n",
       "1              37               4                9.26  \n",
       "2              25              80                6.32  \n",
       "3              89               0                1.76  \n",
       "4              85              68                0.95  \n",
       "..            ...             ...                 ...  \n",
       "572            89               0                2.63  \n",
       "573            72              20                4.56  \n",
       "574            87              63                2.25  \n",
       "575            85              56                3.41  \n",
       "576            99             100                1.13  \n",
       "\n",
       "[577 rows x 8 columns]"
      ]
     },
     "execution_count": 5,
     "metadata": {},
     "output_type": "execute_result"
    }
   ],
   "source": [
    "# Create a dataframe from weather data lists\n",
    "df = pd.DataFrame(list(zip(call_city, call_city_num, lat, long, temp, humid, cloudy, wind_sp)),\n",
    "                 columns = ['City', 'City ID', 'Latitude', 'Longitude', 'Temperature (k)', 'Humidity (%)', 'Cloudiness (%)', 'Wind Speed (m/sec)'])\n",
    "df"
   ]
  },
  {
   "cell_type": "code",
   "execution_count": 6,
   "metadata": {},
   "outputs": [],
   "source": [
    "# Send dataframe to CSV file\n",
    "df.to_csv(output_data_file, index=False)"
   ]
  },
  {
   "cell_type": "markdown",
   "metadata": {},
   "source": [
    "## Inspect Data\n",
    "----\n",
    "###  Remove Cities where Humidity > 100%\n",
    "Skip this step if there are no cities that have humidity > 100%. "
   ]
  },
  {
   "cell_type": "code",
   "execution_count": 7,
   "metadata": {},
   "outputs": [
    {
     "data": {
      "text/html": [
       "<div>\n",
       "<style scoped>\n",
       "    .dataframe tbody tr th:only-of-type {\n",
       "        vertical-align: middle;\n",
       "    }\n",
       "\n",
       "    .dataframe tbody tr th {\n",
       "        vertical-align: top;\n",
       "    }\n",
       "\n",
       "    .dataframe thead th {\n",
       "        text-align: right;\n",
       "    }\n",
       "</style>\n",
       "<table border=\"1\" class=\"dataframe\">\n",
       "  <thead>\n",
       "    <tr style=\"text-align: right;\">\n",
       "      <th></th>\n",
       "      <th>City</th>\n",
       "      <th>City ID</th>\n",
       "      <th>Latitude</th>\n",
       "      <th>Longitude</th>\n",
       "      <th>Temperature (k)</th>\n",
       "      <th>Humidity (%)</th>\n",
       "      <th>Cloudiness (%)</th>\n",
       "      <th>Wind Speed (m/sec)</th>\n",
       "    </tr>\n",
       "  </thead>\n",
       "  <tbody>\n",
       "    <tr>\n",
       "      <th>532</th>\n",
       "      <td>Bam</td>\n",
       "      <td>141736</td>\n",
       "      <td>29.1060</td>\n",
       "      <td>58.3570</td>\n",
       "      <td>305.37</td>\n",
       "      <td>7</td>\n",
       "      <td>0</td>\n",
       "      <td>3.11</td>\n",
       "    </tr>\n",
       "    <tr>\n",
       "      <th>243</th>\n",
       "      <td>Zhangye</td>\n",
       "      <td>1785036</td>\n",
       "      <td>38.9342</td>\n",
       "      <td>100.4517</td>\n",
       "      <td>301.47</td>\n",
       "      <td>9</td>\n",
       "      <td>56</td>\n",
       "      <td>1.06</td>\n",
       "    </tr>\n",
       "    <tr>\n",
       "      <th>536</th>\n",
       "      <td>Ardakān</td>\n",
       "      <td>143073</td>\n",
       "      <td>32.3100</td>\n",
       "      <td>54.0175</td>\n",
       "      <td>302.36</td>\n",
       "      <td>10</td>\n",
       "      <td>0</td>\n",
       "      <td>5.69</td>\n",
       "    </tr>\n",
       "    <tr>\n",
       "      <th>468</th>\n",
       "      <td>Tabas</td>\n",
       "      <td>113659</td>\n",
       "      <td>33.5959</td>\n",
       "      <td>56.9244</td>\n",
       "      <td>305.31</td>\n",
       "      <td>10</td>\n",
       "      <td>0</td>\n",
       "      <td>1.27</td>\n",
       "    </tr>\n",
       "    <tr>\n",
       "      <th>215</th>\n",
       "      <td>Tessalit</td>\n",
       "      <td>2449893</td>\n",
       "      <td>20.1986</td>\n",
       "      <td>1.0114</td>\n",
       "      <td>306.90</td>\n",
       "      <td>10</td>\n",
       "      <td>2</td>\n",
       "      <td>2.47</td>\n",
       "    </tr>\n",
       "    <tr>\n",
       "      <th>...</th>\n",
       "      <td>...</td>\n",
       "      <td>...</td>\n",
       "      <td>...</td>\n",
       "      <td>...</td>\n",
       "      <td>...</td>\n",
       "      <td>...</td>\n",
       "      <td>...</td>\n",
       "      <td>...</td>\n",
       "    </tr>\n",
       "    <tr>\n",
       "      <th>96</th>\n",
       "      <td>Bandar-e Lengeh</td>\n",
       "      <td>141665</td>\n",
       "      <td>26.5579</td>\n",
       "      <td>54.8807</td>\n",
       "      <td>302.21</td>\n",
       "      <td>100</td>\n",
       "      <td>0</td>\n",
       "      <td>0.00</td>\n",
       "    </tr>\n",
       "    <tr>\n",
       "      <th>182</th>\n",
       "      <td>Channel-Port aux Basques</td>\n",
       "      <td>5919815</td>\n",
       "      <td>47.5702</td>\n",
       "      <td>-59.1367</td>\n",
       "      <td>283.36</td>\n",
       "      <td>100</td>\n",
       "      <td>100</td>\n",
       "      <td>0.22</td>\n",
       "    </tr>\n",
       "    <tr>\n",
       "      <th>338</th>\n",
       "      <td>Ishigaki</td>\n",
       "      <td>1861416</td>\n",
       "      <td>24.3448</td>\n",
       "      <td>124.1572</td>\n",
       "      <td>299.22</td>\n",
       "      <td>100</td>\n",
       "      <td>75</td>\n",
       "      <td>9.77</td>\n",
       "    </tr>\n",
       "    <tr>\n",
       "      <th>406</th>\n",
       "      <td>Norden</td>\n",
       "      <td>2862118</td>\n",
       "      <td>53.6000</td>\n",
       "      <td>7.2000</td>\n",
       "      <td>286.97</td>\n",
       "      <td>100</td>\n",
       "      <td>96</td>\n",
       "      <td>0.45</td>\n",
       "    </tr>\n",
       "    <tr>\n",
       "      <th>413</th>\n",
       "      <td>Marystown</td>\n",
       "      <td>6067472</td>\n",
       "      <td>47.1666</td>\n",
       "      <td>-55.1483</td>\n",
       "      <td>284.18</td>\n",
       "      <td>100</td>\n",
       "      <td>100</td>\n",
       "      <td>0.45</td>\n",
       "    </tr>\n",
       "  </tbody>\n",
       "</table>\n",
       "<p>577 rows × 8 columns</p>\n",
       "</div>"
      ],
      "text/plain": [
       "                         City  City ID  Latitude  Longitude  Temperature (k)  \\\n",
       "532                       Bam   141736   29.1060    58.3570           305.37   \n",
       "243                   Zhangye  1785036   38.9342   100.4517           301.47   \n",
       "536                   Ardakān   143073   32.3100    54.0175           302.36   \n",
       "468                     Tabas   113659   33.5959    56.9244           305.31   \n",
       "215                  Tessalit  2449893   20.1986     1.0114           306.90   \n",
       "..                        ...      ...       ...        ...              ...   \n",
       "96            Bandar-e Lengeh   141665   26.5579    54.8807           302.21   \n",
       "182  Channel-Port aux Basques  5919815   47.5702   -59.1367           283.36   \n",
       "338                  Ishigaki  1861416   24.3448   124.1572           299.22   \n",
       "406                    Norden  2862118   53.6000     7.2000           286.97   \n",
       "413                 Marystown  6067472   47.1666   -55.1483           284.18   \n",
       "\n",
       "     Humidity (%)  Cloudiness (%)  Wind Speed (m/sec)  \n",
       "532             7               0                3.11  \n",
       "243             9              56                1.06  \n",
       "536            10               0                5.69  \n",
       "468            10               0                1.27  \n",
       "215            10               2                2.47  \n",
       "..            ...             ...                 ...  \n",
       "96            100               0                0.00  \n",
       "182           100             100                0.22  \n",
       "338           100              75                9.77  \n",
       "406           100              96                0.45  \n",
       "413           100             100                0.45  \n",
       "\n",
       "[577 rows x 8 columns]"
      ]
     },
     "execution_count": 7,
     "metadata": {},
     "output_type": "execute_result"
    }
   ],
   "source": [
    "# Ensure no cities have humidity values > 100%\n",
    "df.sort_values('Humidity (%)')"
   ]
  },
  {
   "cell_type": "markdown",
   "metadata": {},
   "source": [
    "### Convert Data Units"
   ]
  },
  {
   "cell_type": "code",
   "execution_count": 8,
   "metadata": {},
   "outputs": [
    {
     "data": {
      "text/html": [
       "<div>\n",
       "<style scoped>\n",
       "    .dataframe tbody tr th:only-of-type {\n",
       "        vertical-align: middle;\n",
       "    }\n",
       "\n",
       "    .dataframe tbody tr th {\n",
       "        vertical-align: top;\n",
       "    }\n",
       "\n",
       "    .dataframe thead th {\n",
       "        text-align: right;\n",
       "    }\n",
       "</style>\n",
       "<table border=\"1\" class=\"dataframe\">\n",
       "  <thead>\n",
       "    <tr style=\"text-align: right;\">\n",
       "      <th></th>\n",
       "      <th>City</th>\n",
       "      <th>City ID</th>\n",
       "      <th>Latitude</th>\n",
       "      <th>Longitude</th>\n",
       "      <th>Temperature (k)</th>\n",
       "      <th>Humidity (%)</th>\n",
       "      <th>Cloudiness (%)</th>\n",
       "      <th>Wind Speed (m/sec)</th>\n",
       "      <th>Temperature (F)</th>\n",
       "      <th>Wind Speed (mph)</th>\n",
       "    </tr>\n",
       "  </thead>\n",
       "  <tbody>\n",
       "    <tr>\n",
       "      <th>0</th>\n",
       "      <td>Camocim</td>\n",
       "      <td>3403687</td>\n",
       "      <td>-2.9022</td>\n",
       "      <td>-40.8411</td>\n",
       "      <td>297.30</td>\n",
       "      <td>85</td>\n",
       "      <td>3</td>\n",
       "      <td>4.32</td>\n",
       "      <td>75.470</td>\n",
       "      <td>9.66384</td>\n",
       "    </tr>\n",
       "    <tr>\n",
       "      <th>1</th>\n",
       "      <td>Ilulissat</td>\n",
       "      <td>3423146</td>\n",
       "      <td>69.2167</td>\n",
       "      <td>-51.1000</td>\n",
       "      <td>284.16</td>\n",
       "      <td>37</td>\n",
       "      <td>4</td>\n",
       "      <td>9.26</td>\n",
       "      <td>51.818</td>\n",
       "      <td>20.71462</td>\n",
       "    </tr>\n",
       "    <tr>\n",
       "      <th>2</th>\n",
       "      <td>Atar</td>\n",
       "      <td>2381334</td>\n",
       "      <td>20.5169</td>\n",
       "      <td>-13.0499</td>\n",
       "      <td>304.29</td>\n",
       "      <td>25</td>\n",
       "      <td>80</td>\n",
       "      <td>6.32</td>\n",
       "      <td>88.052</td>\n",
       "      <td>14.13784</td>\n",
       "    </tr>\n",
       "    <tr>\n",
       "      <th>3</th>\n",
       "      <td>Castro</td>\n",
       "      <td>3466704</td>\n",
       "      <td>-24.7911</td>\n",
       "      <td>-50.0119</td>\n",
       "      <td>286.87</td>\n",
       "      <td>89</td>\n",
       "      <td>0</td>\n",
       "      <td>1.76</td>\n",
       "      <td>56.696</td>\n",
       "      <td>3.93712</td>\n",
       "    </tr>\n",
       "    <tr>\n",
       "      <th>4</th>\n",
       "      <td>Guane</td>\n",
       "      <td>3557758</td>\n",
       "      <td>22.2025</td>\n",
       "      <td>-84.0875</td>\n",
       "      <td>298.47</td>\n",
       "      <td>85</td>\n",
       "      <td>68</td>\n",
       "      <td>0.95</td>\n",
       "      <td>77.576</td>\n",
       "      <td>2.12515</td>\n",
       "    </tr>\n",
       "    <tr>\n",
       "      <th>...</th>\n",
       "      <td>...</td>\n",
       "      <td>...</td>\n",
       "      <td>...</td>\n",
       "      <td>...</td>\n",
       "      <td>...</td>\n",
       "      <td>...</td>\n",
       "      <td>...</td>\n",
       "      <td>...</td>\n",
       "      <td>...</td>\n",
       "      <td>...</td>\n",
       "    </tr>\n",
       "    <tr>\n",
       "      <th>572</th>\n",
       "      <td>Humberto de Campos</td>\n",
       "      <td>3398428</td>\n",
       "      <td>-2.5983</td>\n",
       "      <td>-43.4611</td>\n",
       "      <td>297.65</td>\n",
       "      <td>89</td>\n",
       "      <td>0</td>\n",
       "      <td>2.63</td>\n",
       "      <td>76.100</td>\n",
       "      <td>5.88331</td>\n",
       "    </tr>\n",
       "    <tr>\n",
       "      <th>573</th>\n",
       "      <td>Sakhipur</td>\n",
       "      <td>1189056</td>\n",
       "      <td>24.3000</td>\n",
       "      <td>90.1833</td>\n",
       "      <td>299.08</td>\n",
       "      <td>72</td>\n",
       "      <td>20</td>\n",
       "      <td>4.56</td>\n",
       "      <td>78.674</td>\n",
       "      <td>10.20072</td>\n",
       "    </tr>\n",
       "    <tr>\n",
       "      <th>574</th>\n",
       "      <td>Takoradze</td>\n",
       "      <td>2294915</td>\n",
       "      <td>4.8845</td>\n",
       "      <td>-1.7554</td>\n",
       "      <td>298.86</td>\n",
       "      <td>87</td>\n",
       "      <td>63</td>\n",
       "      <td>2.25</td>\n",
       "      <td>78.278</td>\n",
       "      <td>5.03325</td>\n",
       "    </tr>\n",
       "    <tr>\n",
       "      <th>575</th>\n",
       "      <td>Chibombo</td>\n",
       "      <td>920233</td>\n",
       "      <td>-14.6569</td>\n",
       "      <td>28.0706</td>\n",
       "      <td>284.88</td>\n",
       "      <td>85</td>\n",
       "      <td>56</td>\n",
       "      <td>3.41</td>\n",
       "      <td>53.114</td>\n",
       "      <td>7.62817</td>\n",
       "    </tr>\n",
       "    <tr>\n",
       "      <th>576</th>\n",
       "      <td>Isiro</td>\n",
       "      <td>215771</td>\n",
       "      <td>2.7739</td>\n",
       "      <td>27.6160</td>\n",
       "      <td>292.27</td>\n",
       "      <td>99</td>\n",
       "      <td>100</td>\n",
       "      <td>1.13</td>\n",
       "      <td>66.416</td>\n",
       "      <td>2.52781</td>\n",
       "    </tr>\n",
       "  </tbody>\n",
       "</table>\n",
       "<p>577 rows × 10 columns</p>\n",
       "</div>"
      ],
      "text/plain": [
       "                   City  City ID  Latitude  Longitude  Temperature (k)  \\\n",
       "0               Camocim  3403687   -2.9022   -40.8411           297.30   \n",
       "1             Ilulissat  3423146   69.2167   -51.1000           284.16   \n",
       "2                  Atar  2381334   20.5169   -13.0499           304.29   \n",
       "3                Castro  3466704  -24.7911   -50.0119           286.87   \n",
       "4                 Guane  3557758   22.2025   -84.0875           298.47   \n",
       "..                  ...      ...       ...        ...              ...   \n",
       "572  Humberto de Campos  3398428   -2.5983   -43.4611           297.65   \n",
       "573            Sakhipur  1189056   24.3000    90.1833           299.08   \n",
       "574           Takoradze  2294915    4.8845    -1.7554           298.86   \n",
       "575            Chibombo   920233  -14.6569    28.0706           284.88   \n",
       "576               Isiro   215771    2.7739    27.6160           292.27   \n",
       "\n",
       "     Humidity (%)  Cloudiness (%)  Wind Speed (m/sec)  Temperature (F)  \\\n",
       "0              85               3                4.32           75.470   \n",
       "1              37               4                9.26           51.818   \n",
       "2              25              80                6.32           88.052   \n",
       "3              89               0                1.76           56.696   \n",
       "4              85              68                0.95           77.576   \n",
       "..            ...             ...                 ...              ...   \n",
       "572            89               0                2.63           76.100   \n",
       "573            72              20                4.56           78.674   \n",
       "574            87              63                2.25           78.278   \n",
       "575            85              56                3.41           53.114   \n",
       "576            99             100                1.13           66.416   \n",
       "\n",
       "     Wind Speed (mph)  \n",
       "0             9.66384  \n",
       "1            20.71462  \n",
       "2            14.13784  \n",
       "3             3.93712  \n",
       "4             2.12515  \n",
       "..                ...  \n",
       "572           5.88331  \n",
       "573          10.20072  \n",
       "574           5.03325  \n",
       "575           7.62817  \n",
       "576           2.52781  \n",
       "\n",
       "[577 rows x 10 columns]"
      ]
     },
     "execution_count": 8,
     "metadata": {},
     "output_type": "execute_result"
    }
   ],
   "source": [
    "# Convert Kelvin temps to Fahrenheit temps\n",
    "df['Temperature (F)'] = (df['Temperature (k)'] - 273.15) * 9/5 + 32\n",
    "\n",
    "# Convert wind speed in meters per sec to MPH\n",
    "df['Wind Speed (mph)'] = (df['Wind Speed (m/sec)'] * 2.237)\n",
    "\n",
    "# Save converted df\n",
    "# Set output file path\n",
    "output_convert_file = os.path.join(\"Output Data\", \"cities_convert.csv\")\n",
    "\n",
    "# Send converted df to CSV\n",
    "df.to_csv(output_convert_file, index=False)\n",
    "\n",
    "df"
   ]
  },
  {
   "cell_type": "markdown",
   "metadata": {},
   "source": [
    "## Plot the Data\n",
    "* Use proper labeling of the plots using plot titles (including date of analysis) and axes labels.\n",
    "* Save the plotted figures as .pngs."
   ]
  },
  {
   "cell_type": "markdown",
   "metadata": {},
   "source": [
    "### Latitude vs. Temperature Plot"
   ]
  },
  {
   "cell_type": "markdown",
   "metadata": {},
   "source": [
    "This plot investigates whether changes in temperature (in Fahrenheit) are correlated with changes in latitude. The plot appears to show that as you move away from the equator in terms of latitude, temperatures are lower (all else constant)."
   ]
  },
  {
   "cell_type": "code",
   "execution_count": 9,
   "metadata": {
    "scrolled": true
   },
   "outputs": [
    {
     "data": {
      "image/png": "[encoded data removed]",
      "text/plain": [
       "<Figure size 432x288 with 1 Axes>"
      ]
     },
     "metadata": {
      "needs_background": "light"
     },
     "output_type": "display_data"
    },
    {
     "data": {
      "text/plain": [
       "<Figure size 432x288 with 0 Axes>"
      ]
     },
     "metadata": {},
     "output_type": "display_data"
    }
   ],
   "source": [
    "# Create scatter plot comparing latitude to temperature\n",
    "df.plot(kind='scatter',x='Latitude',y='Temperature (F)',color='black')\n",
    "plt.title('Latitude vs. Temperature (F), 6/4/21')\n",
    "plt.xlim(-100, 100)\n",
    "plt.ylim(0, 110)\n",
    "\n",
    "# Display the chart\n",
    "plt.show()\n",
    "\n",
    "# Set file path for image\n",
    "image_path = os.path.join(\"Output Data\", \"lat_temp_scatter.png\")\n",
    "\n",
    "# Save chart as image\n",
    "plt.savefig(image_path)"
   ]
  },
  {
   "cell_type": "markdown",
   "metadata": {},
   "source": [
    "### Latitude vs. Humidity Plot"
   ]
  },
  {
   "cell_type": "markdown",
   "metadata": {},
   "source": [
    "This plot investigates whether changes in percent humidity are correlated with changes in latitude. The plot shows no clear linear correlation between latitude and humidity, but there is a potential parabolic correlation. It appears that cities very close to the equator (within roughly 10 degrees latitude) tend to have higher humidity, but no strong correlation is apparent for latitudes above and below that range."
   ]
  },
  {
   "cell_type": "code",
   "execution_count": 10,
   "metadata": {},
   "outputs": [
    {
     "data": {
      "image/png": "[encoded data removed]",
      "text/plain": [
       "<Figure size 432x288 with 1 Axes>"
      ]
     },
     "metadata": {
      "needs_background": "light"
     },
     "output_type": "display_data"
    },
    {
     "data": {
      "text/plain": [
       "<Figure size 432x288 with 0 Axes>"
      ]
     },
     "metadata": {},
     "output_type": "display_data"
    }
   ],
   "source": [
    "# Create scatter plot comparing latitude to humidity\n",
    "df.plot(kind='scatter',x='Latitude',y='Humidity (%)',color='black')\n",
    "plt.title('Latitude vs. Humidity (%), 6/4/21')\n",
    "plt.xlim(-100, 100)\n",
    "plt.ylim(0, 110)\n",
    "\n",
    "# Display the chart\n",
    "plt.show()\n",
    "\n",
    "# Set file path for image\n",
    "image_path = os.path.join(\"Output Data\", \"lat_humid_scatter.png\")\n",
    "\n",
    "# Save chart as image\n",
    "plt.savefig(image_path)"
   ]
  },
  {
   "cell_type": "markdown",
   "metadata": {},
   "source": [
    "### Latitude vs. Cloudiness Plot"
   ]
  },
  {
   "cell_type": "markdown",
   "metadata": {},
   "source": [
    "This plot investigates whether changes in percent cloudiness are correlated with changes in latitude. Based on the plot, no correlation between these two variables is apparent; at any given latitude, cities demonstrate the full range of cloudiness levels."
   ]
  },
  {
   "cell_type": "code",
   "execution_count": 11,
   "metadata": {},
   "outputs": [
    {
     "data": {
      "image/png": "[encoded data removed]",
      "text/plain": [
       "<Figure size 432x288 with 1 Axes>"
      ]
     },
     "metadata": {
      "needs_background": "light"
     },
     "output_type": "display_data"
    },
    {
     "data": {
      "text/plain": [
       "<Figure size 432x288 with 0 Axes>"
      ]
     },
     "metadata": {},
     "output_type": "display_data"
    }
   ],
   "source": [
    "# Create scatter plot comparing latitude to cloudiness\n",
    "df.plot(kind='scatter',x='Latitude',y='Cloudiness (%)',color='black')\n",
    "plt.title('Latitude vs. Cloudiness (%), 6/4/21')\n",
    "plt.xlim(-100, 100)\n",
    "plt.ylim(0, 110)\n",
    "\n",
    "# Display the chart\n",
    "plt.show()\n",
    "\n",
    "# Set file path for image\n",
    "image_path = os.path.join(\"Output Data\", \"lat_cloud_scatter.png\")\n",
    "\n",
    "# Save chart as image\n",
    "plt.savefig(image_path)"
   ]
  },
  {
   "cell_type": "markdown",
   "metadata": {},
   "source": [
    "### Latitude vs. Wind Speed Plot"
   ]
  },
  {
   "cell_type": "markdown",
   "metadata": {},
   "source": [
    "This plot investigates whether changes in wind speed (in miles per hour) are correlated with changes in latitude. The plot shows no apparent correlation between these two variables. It does appear that most cities generally experience wind speeds below 20 mph."
   ]
  },
  {
   "cell_type": "code",
   "execution_count": 12,
   "metadata": {},
   "outputs": [
    {
     "data": {
      "image/png": "[encoded data removed]",
      "text/plain": [
       "<Figure size 432x288 with 1 Axes>"
      ]
     },
     "metadata": {
      "needs_background": "light"
     },
     "output_type": "display_data"
    },
    {
     "data": {
      "text/plain": [
       "<Figure size 432x288 with 0 Axes>"
      ]
     },
     "metadata": {},
     "output_type": "display_data"
    }
   ],
   "source": [
    "# Create scatter plot comparing latitude to wind speed\n",
    "df.plot(kind='scatter',x='Latitude',y='Wind Speed (mph)',color='black')\n",
    "plt.title('Latitude vs. Wind Speed (mph), 6/4/21')\n",
    "plt.xlim(-100, 100)\n",
    "plt.ylim(0, 50)\n",
    "\n",
    "# Display the chart\n",
    "plt.show()\n",
    "\n",
    "# Set file path for image\n",
    "image_path = os.path.join(\"Output Data\", \"lat_wind_scatter.png\")\n",
    "\n",
    "# Save chart as image\n",
    "plt.savefig(image_path)"
   ]
  },
  {
   "cell_type": "markdown",
   "metadata": {},
   "source": [
    "## Linear Regression"
   ]
  },
  {
   "cell_type": "markdown",
   "metadata": {},
   "source": [
    "### Divide Cities into Hemispheres"
   ]
  },
  {
   "cell_type": "code",
   "execution_count": 13,
   "metadata": {},
   "outputs": [],
   "source": [
    "# Assign N/S hemisphere variable\n",
    "df['Hemisphere'] = np.where(df['Latitude'] < 0, \"Southern\", \"Northern\")\n",
    "\n",
    "# Create northern hemisphere df\n",
    "north_df = df.loc[df['Hemisphere'] == \"Northern\", :].copy().reset_index(drop=True)\n",
    "\n",
    "# Create southern hemisphere df\n",
    "south_df = df.loc[df['Hemisphere'] == \"Southern\", :].copy().reset_index(drop=True)"
   ]
  },
  {
   "cell_type": "markdown",
   "metadata": {},
   "source": [
    "### Create Function to Run Regressions"
   ]
  },
  {
   "cell_type": "code",
   "execution_count": 14,
   "metadata": {},
   "outputs": [],
   "source": [
    "# Create a function to generate all plots\n",
    "def city_regress(dataset, column):\n",
    "    x_val = dataset['Latitude']\n",
    "    y_val = dataset[column]\n",
    "    (slope, intercept, rvalue, pvalue, stderr) = linregress(x_val, y_val)\n",
    "    regress_values = x_val * slope + intercept\n",
    "    line_eq = \"y = \" + str(round(slope,2)) + \"x + \" + str(round(intercept,2))\n",
    "    plt.scatter(x_val,y_val)\n",
    "    plt.plot(x_val,regress_values,\"r-\")\n",
    "    plt.title(f'Latitude vs. {column}, 6/4/21')\n",
    "    plt.xlabel('Latitude')\n",
    "    plt.ylabel(column)\n",
    "    plt.xlim(-90, 0)\n",
    "    hem_name = 'south'\n",
    "    plt.annotate(line_eq,(-80,20),fontsize=15,color=\"red\")\n",
    "    if (column == 'Temperature (F)'):\n",
    "        plt.ylim(0, 110)\n",
    "    elif (column == 'Wind Speed (mph)'):\n",
    "        plt.ylim(0, 50)\n",
    "    else:\n",
    "        plt.ylim(0, 100)\n",
    "    if (dataset['Hemisphere'][1] == 'Northern'):\n",
    "        plt.xlim(0, 90)\n",
    "        plt.annotate(line_eq,(10,20),fontsize=15,color=\"red\")\n",
    "        hem_name = 'north'\n",
    "    else:\n",
    "        pass\n",
    "    print(f\"The r-squared is: {rvalue**2}\")\n",
    "    plt.show()\n",
    "    col_abb = column[0:5]\n",
    "    image_path = os.path.join(\"Output Data\", f'{hem_name}_lat_{col_abb}_scatter.png')\n",
    "    plt.savefig(image_path)"
   ]
  },
  {
   "cell_type": "markdown",
   "metadata": {},
   "source": [
    "###  Northern Hemisphere - Temperature (F) vs. Latitude Linear Regression"
   ]
  },
  {
   "cell_type": "markdown",
   "metadata": {},
   "source": [
    "This regression plot uses only cities in the northern hemisphere to investigate the potential relationship between temperature (in Fahrenheit) and latitude. Taking only the northern hemisphere creates a roughly linear rather than parabolic relationship and allows for the use of linear regression techniques. Based on the r-squared value, there is a potential moderate negative relationship between temperature and latitude, all else held constant."
   ]
  },
  {
   "cell_type": "code",
   "execution_count": 15,
   "metadata": {},
   "outputs": [
    {
     "name": "stdout",
     "output_type": "stream",
     "text": [
      "The r-squared is: 0.571048862817659\n"
     ]
    },
    {
     "data": {
      "image/png": "[encoded data removed]",
      "text/plain": [
       "<Figure size 432x288 with 1 Axes>"
      ]
     },
     "metadata": {
      "needs_background": "light"
     },
     "output_type": "display_data"
    },
    {
     "data": {
      "text/plain": [
       "<Figure size 432x288 with 0 Axes>"
      ]
     },
     "metadata": {},
     "output_type": "display_data"
    }
   ],
   "source": [
    "city_regress(north_df, 'Temperature (F)')"
   ]
  },
  {
   "cell_type": "markdown",
   "metadata": {},
   "source": [
    "###  Southern Hemisphere - Temperature (F) vs. Latitude Linear Regression"
   ]
  },
  {
   "cell_type": "markdown",
   "metadata": {},
   "source": [
    "This regression plot uses only cities in the southern hemisphere to investigate the potential relationship between temperature (in Fahrenheit) and latitude. Similar to the regression above, taking only the southern hemisphere creates a roughly linear rather than parabolic relationship and allows for the use of linear regression techniques. Based on the r-squared value, there is a potential moderate positive relationship between temperature and latitude, all else held constant."
   ]
  },
  {
   "cell_type": "code",
   "execution_count": 16,
   "metadata": {},
   "outputs": [
    {
     "name": "stdout",
     "output_type": "stream",
     "text": [
      "The r-squared is: 0.5335758436107425\n"
     ]
    },
    {
     "data": {
      "image/png": "[encoded data removed]",
      "text/plain": [
       "<Figure size 432x288 with 1 Axes>"
      ]
     },
     "metadata": {
      "needs_background": "light"
     },
     "output_type": "display_data"
    },
    {
     "data": {
      "text/plain": [
       "<Figure size 432x288 with 0 Axes>"
      ]
     },
     "metadata": {},
     "output_type": "display_data"
    }
   ],
   "source": [
    "city_regress(south_df, 'Temperature (F)')"
   ]
  },
  {
   "cell_type": "markdown",
   "metadata": {},
   "source": [
    "###  Northern Hemisphere - Humidity (%) vs. Latitude Linear Regression"
   ]
  },
  {
   "cell_type": "markdown",
   "metadata": {},
   "source": [
    "This regression plot uses only cities in the northern hemisphere to investigate the potential relationship between percent humidity and latitude. Given the vague parabolic correlation evidenced in the humidity vs. latitude scatter plot, taking only the northern hemisphere creates a roughly linear rather than parabolic relationship and allows for the use of linear regression techniques. Based on the very low r-squared value, there is no significant linear relationship between humidity and latitude in the northern hemisphere."
   ]
  },
  {
   "cell_type": "code",
   "execution_count": 17,
   "metadata": {},
   "outputs": [
    {
     "name": "stdout",
     "output_type": "stream",
     "text": [
      "The r-squared is: 0.00022861313395264023\n"
     ]
    },
    {
     "data": {
      "image/png": "[encoded data removed]",
      "text/plain": [
       "<Figure size 432x288 with 1 Axes>"
      ]
     },
     "metadata": {
      "needs_background": "light"
     },
     "output_type": "display_data"
    },
    {
     "data": {
      "text/plain": [
       "<Figure size 432x288 with 0 Axes>"
      ]
     },
     "metadata": {},
     "output_type": "display_data"
    }
   ],
   "source": [
    "city_regress(north_df, 'Humidity (%)')"
   ]
  },
  {
   "cell_type": "markdown",
   "metadata": {},
   "source": [
    "###  Southern Hemisphere - Humidity (%) vs. Latitude Linear Regression"
   ]
  },
  {
   "cell_type": "markdown",
   "metadata": {},
   "source": [
    "This regression plot uses only cities in the southern hemisphere to investigate the potential relationship between percent humidity and latitude. Similar to the regression above, taking only the southern hemisphere creates a roughly linear rather than parabolic relationship and allows for the use of linear regression techniques. Based on the very low r-squared value, there is no significant linear relationship between humidity and latitude in the southern hemisphere."
   ]
  },
  {
   "cell_type": "code",
   "execution_count": 18,
   "metadata": {},
   "outputs": [
    {
     "name": "stdout",
     "output_type": "stream",
     "text": [
      "The r-squared is: 0.015337419169752804\n"
     ]
    },
    {
     "data": {
      "image/png": "[encoded data removed]",
      "text/plain": [
       "<Figure size 432x288 with 1 Axes>"
      ]
     },
     "metadata": {
      "needs_background": "light"
     },
     "output_type": "display_data"
    },
    {
     "data": {
      "text/plain": [
       "<Figure size 432x288 with 0 Axes>"
      ]
     },
     "metadata": {},
     "output_type": "display_data"
    }
   ],
   "source": [
    "city_regress(south_df, 'Humidity (%)')"
   ]
  },
  {
   "cell_type": "markdown",
   "metadata": {},
   "source": [
    "###  Northern Hemisphere - Cloudiness (%) vs. Latitude Linear Regression"
   ]
  },
  {
   "cell_type": "markdown",
   "metadata": {},
   "source": [
    "This regression plot uses only cities in the northern hemisphere to investigate the potential relationship between percent cloudiness and latitude. A very low r-squared value supports the observation of no apparent correlation/relationship we drew when investigating the scatter plot correlation between cloudiness and latitude."
   ]
  },
  {
   "cell_type": "code",
   "execution_count": 19,
   "metadata": {},
   "outputs": [
    {
     "name": "stdout",
     "output_type": "stream",
     "text": [
      "The r-squared is: 0.0006552754311183279\n"
     ]
    },
    {
     "data": {
      "image/png": "[encoded data removed]",
      "text/plain": [
       "<Figure size 432x288 with 1 Axes>"
      ]
     },
     "metadata": {
      "needs_background": "light"
     },
     "output_type": "display_data"
    },
    {
     "data": {
      "text/plain": [
       "<Figure size 432x288 with 0 Axes>"
      ]
     },
     "metadata": {},
     "output_type": "display_data"
    }
   ],
   "source": [
    "city_regress(north_df, 'Cloudiness (%)')"
   ]
  },
  {
   "cell_type": "markdown",
   "metadata": {},
   "source": [
    "###  Southern Hemisphere - Cloudiness (%) vs. Latitude Linear Regression"
   ]
  },
  {
   "cell_type": "markdown",
   "metadata": {},
   "source": [
    "This regression plot uses only cities in the southern hemisphere to investigate the potential relationship between percent cloudiness and latitude. A very low r-squared value supports the observation of no apparent correlation/relationship we drew when investigating the scatter plot correlation between cloudiness and latitude. Moreover, isolating the southern hemisphere appears to have made no difference in the relationship."
   ]
  },
  {
   "cell_type": "code",
   "execution_count": 20,
   "metadata": {},
   "outputs": [
    {
     "name": "stdout",
     "output_type": "stream",
     "text": [
      "The r-squared is: 0.006767449808544914\n"
     ]
    },
    {
     "data": {
      "image/png": "[encoded data removed]",
      "text/plain": [
       "<Figure size 432x288 with 1 Axes>"
      ]
     },
     "metadata": {
      "needs_background": "light"
     },
     "output_type": "display_data"
    },
    {
     "data": {
      "text/plain": [
       "<Figure size 432x288 with 0 Axes>"
      ]
     },
     "metadata": {},
     "output_type": "display_data"
    }
   ],
   "source": [
    "city_regress(south_df, 'Cloudiness (%)')"
   ]
  },
  {
   "cell_type": "markdown",
   "metadata": {},
   "source": [
    "###  Northern Hemisphere - Wind Speed (mph) vs. Latitude Linear Regression"
   ]
  },
  {
   "cell_type": "markdown",
   "metadata": {},
   "source": [
    "This regression plot uses only cities in the northern hemisphere to investigate the potential relationship between wind speed (in miles per hour) and latitude. As we observed in the scatter plot showing wind speed vs. latitude, the relationship is nearly horizontal and therefore no significant linear relationship appears to exist between wind speed and latitude. The very low r-squared value supports this conclusion."
   ]
  },
  {
   "cell_type": "code",
   "execution_count": 21,
   "metadata": {},
   "outputs": [
    {
     "name": "stdout",
     "output_type": "stream",
     "text": [
      "The r-squared is: 0.0035747273869504654\n"
     ]
    },
    {
     "data": {
      "image/png": "[encoded data removed]",
      "text/plain": [
       "<Figure size 432x288 with 1 Axes>"
      ]
     },
     "metadata": {
      "needs_background": "light"
     },
     "output_type": "display_data"
    },
    {
     "data": {
      "text/plain": [
       "<Figure size 432x288 with 0 Axes>"
      ]
     },
     "metadata": {},
     "output_type": "display_data"
    }
   ],
   "source": [
    "city_regress(north_df, 'Wind Speed (mph)')"
   ]
  },
  {
   "cell_type": "markdown",
   "metadata": {},
   "source": [
    "###  Southern Hemisphere - Wind Speed (mph) vs. Latitude Linear Regression"
   ]
  },
  {
   "cell_type": "markdown",
   "metadata": {},
   "source": [
    "This regression plot uses only cities in the southern hemisphere to investigate the potential relationship between wind speed (in miles per hour) and latitude. As we observed in the scatter plot showing wind speed vs. latitude, the relationship is nearly horizontal and therefore no significant linear relationship appears to exist between wind speed and latitude. The relationship in the southern hemisphere does not appear to be significantly different than in the northern hemisphere."
   ]
  },
  {
   "cell_type": "code",
   "execution_count": 22,
   "metadata": {},
   "outputs": [
    {
     "name": "stdout",
     "output_type": "stream",
     "text": [
      "The r-squared is: 0.0026977328770030973\n"
     ]
    },
    {
     "data": {
      "image/png": "[encoded data removed]",
      "text/plain": [
       "<Figure size 432x288 with 1 Axes>"
      ]
     },
     "metadata": {
      "needs_background": "light"
     },
     "output_type": "display_data"
    },
    {
     "data": {
      "text/plain": [
       "<Figure size 432x288 with 0 Axes>"
      ]
     },
     "metadata": {},
     "output_type": "display_data"
    }
   ],
   "source": [
    "city_regress(south_df, 'Wind Speed (mph)')"
   ]
  },
  {
   "cell_type": "code",
   "execution_count": null,
   "metadata": {},
   "outputs": [],
   "source": []
  }
 ],
 "metadata": {
  "anaconda-cloud": {},
  "kernel_info": {
   "name": "python3"
  },
  "kernelspec": {
   "display_name": "Python 3",
   "language": "python",
   "name": "python3"
  },
  "language_info": {
   "codemirror_mode": {
    "name": "ipython",
    "version": 3
   },
   "file_extension": ".py",
   "mimetype": "text/x-python",
   "name": "python",
   "nbconvert_exporter": "python",
   "pygments_lexer": "ipython3",
   "version": "3.8.5"
  },
  "latex_envs": {
   "LaTeX_envs_menu_present": true,
   "autoclose": false,
   "autocomplete": true,
   "bibliofile": "biblio.bib",
   "cite_by": "apalike",
   "current_citInitial": 1,
   "eqLabelWithNumbers": true,
   "eqNumInitial": 1,
   "hotkeys": {
    "equation": "Ctrl-E",
    "itemize": "Ctrl-I"
   },
   "labels_anchors": false,
   "latex_user_defs": false,
   "report_style_numbering": false,
   "user_envs_cfg": false
  },
  "nteract": {
   "version": "0.12.3"
  }
 },
 "nbformat": 4,
 "nbformat_minor": 2
}
